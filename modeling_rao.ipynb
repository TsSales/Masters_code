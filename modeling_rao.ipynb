{
 "cells": [
  {
   "cell_type": "markdown",
   "metadata": {},
   "source": [
    "### Script de modelagem direta da bacia de barreirinhas - dados grav adquiridos por Nelson Delimar"
   ]
  },
  {
   "cell_type": "code",
   "execution_count": null,
   "metadata": {},
   "outputs": [],
   "source": [
    "# importando pacotes necessarios:\n",
    "import numpy as np # pacote numerico\n",
    "import pylab as py \n",
    "import matplotlib.pyplot as plt # pacote de plotagem\n",
    "from matplotlib import widgets\n",
    "from matplotlib.path import Path\n",
    "from matplotlib.patches import PathPatch\n",
    "%matplotlib tk"
   ]
  },
  {
   "cell_type": "markdown",
   "metadata": {},
   "source": [
    "### Importando os pacotes com as nossas funcoes:"
   ]
  },
  {
   "cell_type": "code",
   "execution_count": null,
   "metadata": {},
   "outputs": [],
   "source": [
    "from modules.iplots import pick_points, model_masses # para fazer o plot interativo\n",
    "from modules.gravity import grav2D_anom, g_sphere # funcao que calcula dados de gravidade (rao 1994)"
   ]
  },
  {
   "cell_type": "markdown",
   "metadata": {},
   "source": [
    "### Leitura dos dados reais do perfil de Barreirinhas:"
   ]
  },
  {
   "cell_type": "code",
   "execution_count": null,
   "metadata": {
    "scrolled": true
   },
   "outputs": [],
   "source": [
    "# leitura no script do pc do bijani:\n",
    "elev, gz, x_utm, y_utm = np.loadtxt('../dados_reais/Barreirinhas/barreirinhas_perfil.txt', \n",
    "                                    skiprows=1 , usecols = (2,3,0,1), unpack = True)\n",
    "#alterando o sinal de elev devido a mudança da referencia do eixo z (positivo para baixo):\n",
    "elev = -elev                                   "
   ]
  },
  {
   "cell_type": "code",
   "execution_count": null,
   "metadata": {},
   "outputs": [],
   "source": [
    "# Plot dos dados para verificação:\n",
    "plt.figure(figsize=(15,7), facecolor='w')\n",
    "plt.scatter(x_utm,gz,s=5.0,c=gz,marker='*', cmap=plt.cm.coolwarm)\n",
    "#plt.plot(x_utm, gz,'*r')\n",
    "#plt.title ('Gravity Data (mGal)', fontsize = 16)\n",
    "plt.xlabel ('UTM x(m)', fontsize = 14)\n",
    "plt.ylabel ('Bouguer Anomaly (mGal)', fontsize = 14)\n",
    "plt.grid()\n",
    "#plt.savefig('Bouguer.png', dpi=300, transparent=True, bbox_inches=\"tight\" )\n",
    "plt.show()"
   ]
  },
  {
   "cell_type": "markdown",
   "metadata": {},
   "source": [
    "### Definição da area de plot do modelo:"
   ]
  },
  {
   "cell_type": "code",
   "execution_count": null,
   "metadata": {},
   "outputs": [],
   "source": [
    "area= []\n",
    "xmin = np.min(x_utm)\n",
    "xmax = np.max(x_utm)\n",
    "zmin = np.min( (elev) ) #-100.0\n",
    "#zmax = 3.0 #profundidade da bacia em km (entradas do rao et al., 1994 em Km)\n",
    "zmax = 2500.0 #adaptado para metros !\n",
    "print(zmin)\n",
    "area = [xmin, xmax, zmin, zmax]\n",
    "print(area)"
   ]
  },
  {
   "cell_type": "markdown",
   "metadata": {},
   "source": [
    "### Criacao do modelo de bacia atraves dos clicks na area de plot: "
   ]
  },
  {
   "cell_type": "code",
   "execution_count": null,
   "metadata": {},
   "outputs": [],
   "source": [
    "%matplotlib tk \n",
    "axes = plt.figure().add_subplot(1,1,1)\n",
    "xv,zv = pick_points(area, axes, marker='o', color='k', size=8, xy2ne=False)"
   ]
  },
  {
   "cell_type": "markdown",
   "metadata": {},
   "source": [
    "### calculo da anomalia de gravidade produzido pelo modelo de bacia (artigo do Rao et. al., 1994):"
   ]
  },
  {
   "cell_type": "code",
   "execution_count": null,
   "metadata": {},
   "outputs": [],
   "source": [
    "# info da propriedade fisica:\n",
    "delta_rho = -1.10 #(g/cm³)# contraste de Densidade do arenito em relacao ao embasamento local no topo da bacia!\n",
    "beta = 7.12\n",
    "# convertendo para SI(kg/m³):\n",
    "rho_ref = 2.88 # densidade do embasamento (checar!)\n",
    "rho = delta_rho + rho_ref\n",
    "#rho = rho * 1000.0 \n",
    "print('densidade no topo da bacia em g/cm³=', rho)"
   ]
  },
  {
   "cell_type": "code",
   "execution_count": null,
   "metadata": {},
   "outputs": [],
   "source": [
    "#Criacao de variaveis necessarias para o calculo da anomalia:\n",
    "nv = np.size (xv)\n",
    "#print nv\n",
    "nper = np.size (x_utm)\n",
    "#print nper\n",
    "# calculo da anomalia grav atraves de rao1994:\n",
    "xd = np.zeros( (nv,) )\n",
    "zd = np.zeros( (nv,) )\n",
    "grav = np.zeros( (nper,) )\n",
    "for i in range(nper):\n",
    "    for j in range(nv):\n",
    "        xd[j] = ( xv[j] - x_utm[i])/1000.0\n",
    "        zd[j] = (zv[j]- elev[i])/1000.0\n",
    "    # chamando a funcao do rao 1994:\n",
    "    grav[i] = grav2D_anom(xd,zd,delta_rho,beta)"
   ]
  },
  {
   "cell_type": "code",
   "execution_count": null,
   "metadata": {},
   "outputs": [],
   "source": [
    "#######################################################\n",
    "# computing hyperbolic density function\n",
    "########################################################\n",
    "z = np.linspace( np.amin(zv), np.amax(zv), np.size(zv) ) # em km\n",
    "rhoz = np.zeros( np.size(z) )\n",
    "rhoz = (delta_rho)*beta**2/(beta + (z/100.0) )**2 # conversao para g/cm3 (CORRETO!!!!)\n",
    "#rhoz = rhoz + 2.670"
   ]
  },
  {
   "cell_type": "code",
   "execution_count": null,
   "metadata": {},
   "outputs": [],
   "source": [
    "# save figure and a file for reproduction:\n",
    "A = np.zeros( (len(z),2) )\n",
    "A[:,0] = z\n",
    "A[:,1] = rhoz\n",
    "caminho = 'figs/density1'\n",
    "# save text file for ploting issues:\n",
    "np.savetxt(caminho+'.txt', A, header=' Z , rhoZ', delimiter=' ' )"
   ]
  },
  {
   "cell_type": "code",
   "execution_count": null,
   "metadata": {},
   "outputs": [],
   "source": [
    "%matplotlib inline\n",
    "# plot of the density distribution:\n",
    "fig = plt.figure(figsize=(7,7))\n",
    "\n",
    "# definition of fontsize:\n",
    "fs = 15 \n",
    "# invert axis\n",
    "plt.gca().invert_yaxis()\n",
    "plt.gca().invert_xaxis()\n",
    "\n",
    "# set labelsize \n",
    "plt.tick_params(axis='y', labelsize=fs-2)\n",
    "plt.tick_params(axis='x', labelsize=fs-2,labelbottom=True,labeltop=True)\n",
    "\n",
    "plt.text(rhoz[0]+0.01, z[0]+0.148, str( format(rhoz[0],'.3f') ), style='italic',\n",
    "        bbox={'facecolor':'red', 'alpha':0.5, 'pad':10})\n",
    "\n",
    "plt.plot(rhoz,z,'k-',linewidth=2.0)\n",
    "plt.plot(rhoz[0],z[0],'ro',linewidth=2.0)\n",
    "plt.grid()\n",
    "plt.xlabel(r'Density contrast $(g/cm^3)$',fontsize=fs)\n",
    "plt.ylabel(r'Depth $(km)$',fontsize=fs)\n",
    "plt.axis([np.max(rhoz)+0.05, np.min(rhoz)-0.02, np.max(z)+0.1, np.min(z)-0.1])\n",
    "plt.savefig(caminho +'.png', dpi=300, transparent=True, bbox_inches=\"tight\" )\n",
    "plt.show()\n",
    "#############################################################################################################"
   ]
  },
  {
   "cell_type": "code",
   "execution_count": null,
   "metadata": {},
   "outputs": [],
   "source": [
    "# get the number of elements of xv (number of vertices of the polygon)\n",
    "n = np.size(xv)     \n",
    "# create new working arrays for the vertices of a closed polygon:\n",
    "x = np.zeros( (n+1,) )  \n",
    "z = np.zeros( (n+1,) ) \n",
    "x[0:n] = xv\n",
    "z[0:n] = zv\n",
    "# GAMBIARRA PARA PLOT DE CORES ASSSOCIADOOS À BACIA MODELADA (PENSAR EM ALGO MILHÓ) \n",
    "x[n:n+1] = min(xv)\n",
    "z[n:n+1] = np.min(zv)"
   ]
  },
  {
   "cell_type": "markdown",
   "metadata": {},
   "source": [
    "### SALVANDO O ARQUIVO E A RESPECTIVA IMAGEM COM O MESMO NOME"
   ]
  },
  {
   "cell_type": "code",
   "execution_count": null,
   "metadata": {},
   "outputs": [],
   "source": [
    "# save fig and a txt file for reproduction:\n",
    "caminho = \"figs/model_basin_barreirinhas1\"\n",
    "\n",
    "B = np.zeros( (len(z),2) )\n",
    "B[:,0] = x\n",
    "B[:,1] = z\n",
    "\n",
    "# save text file for ploting issues:\n",
    "np.savetxt(caminho+'.txt', B, header=' UTMx(m) , depth(m)', delimiter=' ' )"
   ]
  },
  {
   "cell_type": "code",
   "execution_count": null,
   "metadata": {},
   "outputs": [],
   "source": [
    "print(np.array([x,z]).T)"
   ]
  },
  {
   "cell_type": "code",
   "execution_count": null,
   "metadata": {},
   "outputs": [],
   "source": [
    "# and the modeled basin:\n",
    "fig = plt.figure(figsize=(14,8))\n",
    "path = Path(np.array([x,z]).T)\n",
    "patch = PathPatch(path, facecolor='none')\n",
    "#######################################################\n",
    "plt.gca().add_patch(patch)\n",
    "plt.plot(xv,zv,'k-o')\n",
    "\n",
    "# plot the last and the first corner to close up the polygon:\n",
    "fs = 18 # font size for the label\n",
    "plt.gca().invert_yaxis()\n",
    "plt.xlabel(r'UTM x $(m)$',fontsize=fs)\n",
    "plt.ylabel(r'Depth $(m)$',fontsize=fs)\n",
    "plt.xlim([np.min(xv), np.max(xv)])\n",
    "\n",
    "##################################################################\n",
    "# plot the density variation together with the basin:\n",
    "##################################################################\n",
    "\n",
    "im = plt.imshow(rhoz.reshape(np.size(zv),1),  cmap=plt.cm.Wistia,interpolation=\"bicubic\",\n",
    "                origin='lower',extent=[min(x), max(x), min(z), max(z)],aspect=\"auto\", clip_path=patch, clip_on=True)\n",
    "#im.set_clip_path(patch)\n",
    "\n",
    "# OBS:::::: para reverter a escala de cores, basta um simples \"_r\" ! sucesso de vida!!!!\n",
    "plt.gca().invert_yaxis()\n",
    "cbar = plt.colorbar()\n",
    "cbar.ax.set_ylabel(r'Density constrast in $g/cm^3$', fontsize=fs)\n",
    "\n",
    "# Mat, verificar!!!!!!\n",
    "plt.savefig(caminho +\".png\", dpi=300, transparent=True, bbox_inches='tight')\n",
    "plt.show()"
   ]
  },
  {
   "cell_type": "markdown",
   "metadata": {},
   "source": [
    "### Plot do modelo atual + os dados reais para comparação:"
   ]
  },
  {
   "cell_type": "code",
   "execution_count": null,
   "metadata": {},
   "outputs": [],
   "source": [
    "# save fig and a txt file for reproduction:\n",
    "caminho = \"figs/datafit1\"\n",
    "C = np.zeros( (len(x_utm),3) )\n",
    "C[:,0] = x_utm\n",
    "C[:,1] = grav\n",
    "C[:,2] = gz\n",
    "# save text file for ploting issues:\n",
    "np.savetxt(caminho+'.txt', C, header=' UTMx(m) Gpred(mGal) Gobs(mGal)', delimiter=' ' )"
   ]
  },
  {
   "cell_type": "code",
   "execution_count": null,
   "metadata": {},
   "outputs": [],
   "source": [
    "fig = plt.figure(figsize=(14,8))\n",
    "\n",
    "plt.plot(x_utm,gz,'.k', label='observed data')\n",
    "plt.plot(x_utm,grav,'.r', label='predicted data')\n",
    "plt.legend()\n",
    "plt.grid()\n",
    "#plt.title ('Gravity Data (mGal)', fontsize = 16)\n",
    "plt.xlabel ('UTM x(m)', fontsize = 14)\n",
    "plt.ylabel ('Bouguer Anomaly (mGal)', fontsize = 14)\n",
    "plt.savefig(caminho+'png', dpi=300)\n",
    "plt.show()"
   ]
  },
  {
   "cell_type": "markdown",
   "metadata": {},
   "source": [
    "# Etapa nova! Criação da anomalia bouguer produzida por uma intrusão modelada"
   ]
  },
  {
   "cell_type": "code",
   "execution_count": null,
   "metadata": {},
   "outputs": [],
   "source": [
    "# limites para a densidade da intrusao (g/cm3)\n",
    "arearho= [1.1,1.2,1.1,1.2]"
   ]
  },
  {
   "cell_type": "code",
   "execution_count": null,
   "metadata": {},
   "outputs": [],
   "source": [
    "%matplotlib tk\n",
    "# obtencao das coordenadas 2D e a densidade da intrusao atraves de clicks:\n",
    "xb, zb, rhob = model_masses(area, arearho, background=[xv,zv])"
   ]
  },
  {
   "cell_type": "code",
   "execution_count": null,
   "metadata": {},
   "outputs": [],
   "source": [
    "# Calcular a anomalia produzida pelas bolinhas:\n",
    "intruso=[] # lista para guardar todas as bolinhas:\n",
    "for i in range(len(xb)):\n",
    "    intruso.append( [ xb[i],zb[i],rhob[i] ] )\n",
    "gravb = g_sphere(x_utm, elev, intruso, component='z')"
   ]
  },
  {
   "cell_type": "code",
   "execution_count": null,
   "metadata": {},
   "outputs": [],
   "source": [
    "# principio da superposicao para computar o efeito da poligono (grav) + intrusao (gravb}):\n",
    "gravt = grav + gravb"
   ]
  },
  {
   "cell_type": "code",
   "execution_count": null,
   "metadata": {},
   "outputs": [],
   "source": [
    "%matplotlib inline\n",
    "# and the modeled basin:\n",
    "fig = plt.figure(figsize=(14,8))\n",
    "path = Path(np.array([x,z]).T)\n",
    "patch = PathPatch(path, facecolor='none')\n",
    "\n",
    "#######################################################\n",
    "plt.gca().add_patch(patch)\n",
    "plt.plot(xv,zv,'k-o')\n",
    "\n",
    "# plot the last and the first corner to close up the polygon:\n",
    "fs = 18 # font size for the label\n",
    "plt.gca().invert_yaxis()\n",
    "plt.xlabel(r'UTM x $(m)$',fontsize=fs)\n",
    "plt.ylabel(r'Depth $(m)$',fontsize=fs)\n",
    "plt.xlim([np.min(xv), np.max(xv)])\n",
    "\n",
    "##################################################################\n",
    "# plot the density variation together with the basin:\n",
    "##################################################################\n",
    "\n",
    "im = plt.imshow(rhoz.reshape(np.size(zv),1),  cmap=plt.cm.Wistia, interpolation=\"bicubic\",\n",
    "                origin='lower',extent=[min(x), max(x), min(z), max(z)],aspect=\"auto\", clip_path=patch, clip_on=True)\n",
    "#im.set_clip_path(patch)\n",
    "\n",
    "# OBS:::::: para reverter a escala de cores, basta um simples \"_r\" ! sucesso de vida!!!!\n",
    "plt.gca().invert_yaxis()\n",
    "cbar = plt.colorbar()\n",
    "cbar.ax.set_ylabel(r'Density constrast in $g/cm^3$', fontsize=fs)\n",
    "\n",
    "\n",
    "rb = np.array(rhob)-rho_ref\n",
    "print (rb)\n",
    "plt.scatter(xb,zb,s=60,c=rb,cmap='Wistia', vmin=min(rhoz), vmax=max(rhoz) )\n",
    "\n",
    "# Mat, verificar!!!!!!\n",
    "plt.savefig(caminho +\".png\", dpi=300, transparent=True, bbox_inches='tight')\n",
    "plt.show()"
   ]
  },
  {
   "cell_type": "markdown",
   "metadata": {},
   "source": [
    "### PLOT DO AJUSTE DOS DADOS COM A INTRUSAO:\n"
   ]
  },
  {
   "cell_type": "code",
   "execution_count": null,
   "metadata": {},
   "outputs": [],
   "source": [
    "# save fig and a txt file for reproduction:\n",
    "caminho = \"figs/datafit_intruso1\"\n",
    "C = np.zeros( (len(x_utm),3) )\n",
    "C[:,0] = x_utm\n",
    "C[:,1] = gravt\n",
    "C[:,2] = gz\n",
    "# save text file for ploting issues:\n",
    "np.savetxt(caminho+'.txt', C, header=' UTMx(m) Gpred(mGal) Gobs(mGal)', delimiter=' ' )"
   ]
  },
  {
   "cell_type": "code",
   "execution_count": null,
   "metadata": {},
   "outputs": [],
   "source": [
    "fig = plt.figure(figsize=(14,8))\n",
    "\n",
    "plt.plot(x_utm,gz,'.k', label='observed data')\n",
    "plt.plot(x_utm,gravt,'.r', label='predicted data')\n",
    "plt.legend()\n",
    "plt.grid()\n",
    "#plt.title ('Gravity Data (mGal)', fontsize = 16)\n",
    "plt.xlabel ('UTM x(m)', fontsize = 14)\n",
    "plt.ylabel ('Bouguer Anomaly (mGal)', fontsize = 14)\n",
    "plt.savefig(caminho+'png', dpi=300)\n",
    "plt.show()"
   ]
  },
  {
   "cell_type": "code",
   "execution_count": null,
   "metadata": {},
   "outputs": [],
   "source": []
  }
 ],
 "metadata": {
  "kernelspec": {
   "display_name": "Python 3",
   "language": "python",
   "name": "python3"
  },
  "language_info": {
   "codemirror_mode": {
    "name": "ipython",
    "version": 3
   },
   "file_extension": ".py",
   "mimetype": "text/x-python",
   "name": "python",
   "nbconvert_exporter": "python",
   "pygments_lexer": "ipython3",
   "version": "3.6.5"
  }
 },
 "nbformat": 4,
 "nbformat_minor": 2
}
