{
 "cells": [
  {
   "cell_type": "markdown",
   "metadata": {},
   "source": [
    "## <center> Basement heterogeneity "
   ]
  },
  {
   "cell_type": "markdown",
   "metadata": {},
   "source": [
    "### <center> Reconcavo Basin, Brazil"
   ]
  },
  {
   "cell_type": "code",
   "execution_count": 1,
   "metadata": {},
   "outputs": [],
   "source": [
    "# importando pacotes necessarios:\n",
    "import numpy as np # pacote numerico\n",
    "import pylab as py \n",
    "import pandas as pd\n",
    "import matplotlib.pyplot as plt # pacote de plotagem\n",
    "#para plotar as figuras nas celulas do jupyter notebook:\n",
    "from matplotlib.path import Path\n",
    "from matplotlib.patches import PathPatch\n",
    "import sys\n",
    "%matplotlib qt\n",
    "import utm\n",
    "#plt.plot ([1,2])"
   ]
  },
  {
   "cell_type": "markdown",
   "metadata": {},
   "source": [
    "## Importação dos módulos"
   ]
  },
  {
   "cell_type": "code",
   "execution_count": 2,
   "metadata": {},
   "outputs": [],
   "source": [
    "from modules.iplots import pick_points, model_masses # para fazer o plot interativo\n",
    "from modules.gravity import grav2D_anom, g_sphere # funcao que calcula dados de gravidade (rao 1994)"
   ]
  },
  {
   "cell_type": "markdown",
   "metadata": {},
   "source": [
    "## Importação dos dados do perfl"
   ]
  },
  {
   "cell_type": "markdown",
   "metadata": {},
   "source": [
    "Profile Continuation 4000m"
   ]
  },
  {
   "cell_type": "code",
   "execution_count": 3,
   "metadata": {},
   "outputs": [
    {
     "data": {
      "text/plain": [
       "931"
      ]
     },
     "execution_count": 3,
     "metadata": {},
     "output_type": "execute_result"
    }
   ],
   "source": [
    "Lon, Lat, Boug_residual= np.loadtxt('bouguer_recon_perfil_Cont4000_cut.txt',\n",
    "                                             skiprows=1, usecols=(0,1,2), unpack=True)\n",
    "\n",
    "np.size(Boug_residual)\n",
    "gobs=Boug_residual\n",
    "np.size(gobs)"
   ]
  },
  {
   "cell_type": "code",
   "execution_count": 4,
   "metadata": {},
   "outputs": [
    {
     "name": "stdout",
     "output_type": "stream",
     "text": [
      "numero de dados= 931\n"
     ]
    }
   ],
   "source": [
    "# lat lon do banco de dados Oasis computados pela funcao utm:\n",
    "npo = len(Lon)\n",
    "print ('numero de dados=', npo)\n",
    "UTMe = np.zeros(npo)\n",
    "UTMn = np.zeros(npo)\n",
    "#ZONE=np.zeros(npo)\n",
    "\n",
    "for i in range(npo):\n",
    "    UTMe[i], UTMn[i], _ = utm.from_latlon(Lat[i], Lon[i],force_zone_number=24) # output = UTM em m"
   ]
  },
  {
   "cell_type": "markdown",
   "metadata": {},
   "source": [
    "## Leitura dos modelos de bacia"
   ]
  },
  {
   "cell_type": "code",
   "execution_count": 5,
   "metadata": {},
   "outputs": [],
   "source": [
    "#leitura dos dados do modelo\n",
    "\n",
    "#a=sys.path('Users\\thais\\Desktop\\scripts\\Dados finais\\model_basin_reconcavo5.txt')\n",
    "rho_ref = 3.0 # densidade do embasamento\n",
    "\n",
    "modelo= pd.read_csv('figs/modelCONTINUATION5.txt', sep=' ', header=0 )\n",
    "xv=modelo['Easting(m)']\n",
    "zv=modelo['depth(m)']\n",
    "\n",
    "area=[min(xv),max(xv), min(zv),max(zv)]\n",
    "\n",
    "#np.min(zv)\n",
    "#modelo\n"
   ]
  },
  {
   "cell_type": "code",
   "execution_count": 6,
   "metadata": {},
   "outputs": [
    {
     "data": {
      "text/plain": [
       "931"
      ]
     },
     "execution_count": 6,
     "metadata": {},
     "output_type": "execute_result"
    }
   ],
   "source": [
    "#leitura dos dados do ajuste\n",
    "\n",
    "ajuste= pd.read_csv('figs/datafitCONTINUATION5.txt', sep=' ', header=0 )\n",
    "grav=np.array(ajuste['Gpred(mGal)'])\n",
    "gobs=np.array(ajuste['Gobs(mGal)'])\n",
    "#ajuste\n",
    "np.size(grav)\n",
    "#ajuste"
   ]
  },
  {
   "cell_type": "code",
   "execution_count": 7,
   "metadata": {},
   "outputs": [],
   "source": [
    "#leitura dos dados de densidade\n",
    "density= pd.read_csv('figs/densityCONTINUATION5.txt', sep=' ', header=0 )\n",
    "Z=np.array(density['Z'])\n",
    "rhoz=np.array(density['rhoZ'])\n",
    "\n",
    "#density"
   ]
  },
  {
   "cell_type": "markdown",
   "metadata": {},
   "source": [
    "## Jogando fora valores extras do perfil"
   ]
  },
  {
   "cell_type": "code",
   "execution_count": 8,
   "metadata": {},
   "outputs": [],
   "source": [
    "LonE=np.zeros(len(grav))\n",
    "Gobs=np.zeros(len(grav))\n",
    "UTME=np.zeros(len(grav))\n",
    "\n",
    "for i in range (len(grav)):\n",
    "    LonE[i]= Lon[i] \n",
    "    Gobs[i]=gobs[i]\n",
    "    UTME[i]=UTMe[i]"
   ]
  },
  {
   "cell_type": "markdown",
   "metadata": {},
   "source": [
    "## Inclusão das heterogeneidades"
   ]
  },
  {
   "cell_type": "code",
   "execution_count": 127,
   "metadata": {},
   "outputs": [],
   "source": [
    "# limites para os contrastes de densidade da intrusão (g/cm3)\n",
    "arearho= [-0.6,-0.7,-0.6, -0.7]"
   ]
  },
  {
   "cell_type": "code",
   "execution_count": 128,
   "metadata": {},
   "outputs": [],
   "source": [
    "elev=np.zeros((np.size(LonE)))"
   ]
  },
  {
   "cell_type": "code",
   "execution_count": 130,
   "metadata": {},
   "outputs": [],
   "source": [
    "%matplotlib qt\n",
    "# obtencao das coordenadas 2D e a densidade da intrusao atraves de clicks:\n",
    "xb, zb, rhob = model_masses(area, arearho, background=[xv,zv])"
   ]
  },
  {
   "cell_type": "code",
   "execution_count": 131,
   "metadata": {},
   "outputs": [],
   "source": [
    "# Calcular a anomalia produzida pelas bolinhas:\n",
    "intruso=[] # lista para guardar todas as bolinhas:\n",
    "for i in range(len(xb)):\n",
    "    intruso.append( [ xb[i],zb[i],rhob[i] ] )\n",
    "gravb = g_sphere(UTME, elev, intruso, component='z')"
   ]
  },
  {
   "cell_type": "markdown",
   "metadata": {},
   "source": [
    "## Cálculo da anomalia"
   ]
  },
  {
   "cell_type": "code",
   "execution_count": 132,
   "metadata": {},
   "outputs": [],
   "source": [
    "# principio da superposicao para computar o efeito da poligono (grav) + intrusao (gravb}):\n",
    "\n",
    "gravt = grav + gravb #grav predito pelo modelo + grav provocada pela heterogeneidade\n"
   ]
  },
  {
   "cell_type": "code",
   "execution_count": 133,
   "metadata": {},
   "outputs": [
    {
     "data": {
      "text/plain": [
       "array([-8.63833383e-03, -8.78926997e-03, -8.94380466e-03, -9.10204750e-03,\n",
       "       -9.26411220e-03, -9.43011670e-03, -9.60018343e-03, -9.77443946e-03,\n",
       "       -9.95301675e-03, -1.01360523e-02, -1.03236886e-02, -1.05160735e-02,\n",
       "       -1.07133607e-02, -1.09157102e-02, -1.11232882e-02, -1.13362678e-02,\n",
       "       -1.15548288e-02, -1.17791586e-02, -1.20094524e-02, -1.22459133e-02,\n",
       "       -1.24887528e-02, -1.27381917e-02, -1.29944598e-02, -1.32577969e-02,\n",
       "       -1.35284531e-02, -1.38066895e-02, -1.40927784e-02, -1.43870043e-02,\n",
       "       -1.46896643e-02, -1.50010690e-02, -1.53215427e-02, -1.56514248e-02,\n",
       "       -1.59910703e-02, -1.63408505e-02, -1.67011543e-02, -1.70723887e-02,\n",
       "       -1.74549804e-02, -1.78493763e-02, -1.82560452e-02, -1.86754785e-02,\n",
       "       -1.91081923e-02, -1.95547280e-02, -2.00156544e-02, -2.04915691e-02,\n",
       "       -2.09831002e-02, -2.14909084e-02, -2.20156888e-02, -2.25581731e-02,\n",
       "       -2.31191319e-02, -2.36993773e-02, -2.42997652e-02, -2.49211987e-02,\n",
       "       -2.55646305e-02, -2.62310670e-02, -2.69215711e-02, -2.76372664e-02,\n",
       "       -2.83793415e-02, -2.91490541e-02, -2.99477361e-02, -3.07767986e-02,\n",
       "       -3.16377379e-02, -3.25321412e-02, -3.34616935e-02, -3.44281847e-02,\n",
       "       -3.54335176e-02, -3.64797160e-02, -3.75689344e-02, -3.87034679e-02,\n",
       "       -3.98857628e-02, -4.11184294e-02, -4.24042541e-02, -4.37462145e-02,\n",
       "       -4.51474947e-02, -4.66115022e-02, -4.81418873e-02, -4.97425633e-02,\n",
       "       -5.14177291e-02, -5.31718947e-02, -5.50099081e-02, -5.69369860e-02,\n",
       "       -5.89587474e-02, -6.10812503e-02, -6.33110331e-02, -6.56551601e-02,\n",
       "       -6.81212716e-02, -7.07176405e-02, -7.34532350e-02, -7.63377877e-02,\n",
       "       -7.93818739e-02, -8.25969985e-02, -8.59956937e-02, -8.95916278e-02,\n",
       "       -9.33997286e-02, -9.74363210e-02, -1.01719283e-01, -1.06268221e-01,\n",
       "       -1.11104670e-01, -1.16252314e-01, -1.21737249e-01, -1.27588263e-01,\n",
       "       -1.33837176e-01, -1.40519207e-01, -1.47673410e-01, -1.55343163e-01,\n",
       "       -1.63576729e-01, -1.72427904e-01, -1.81956762e-01, -1.92230504e-01,\n",
       "       -2.03324447e-01, -2.15323160e-01, -2.28321776e-01, -2.42427514e-01,\n",
       "       -2.57761435e-01, -2.74460475e-01, -2.92679800e-01, -3.12595533e-01,\n",
       "       -3.34407892e-01, -3.58344820e-01, -3.84666146e-01, -4.13668346e-01,\n",
       "       -4.45689948e-01, -4.81117604e-01, -5.20392840e-01, -5.64019387e-01,\n",
       "       -6.12570952e-01, -6.66699076e-01, -7.27140542e-01, -7.94723403e-01,\n",
       "       -8.70370260e-01, -9.55096701e-01, -1.05000197e+00, -1.15624784e+00,\n",
       "       -1.27502044e+00, -1.40746874e+00, -1.55461276e+00, -1.71721565e+00,\n",
       "       -1.89561692e+00, -2.08953224e+00, -2.29783816e+00, -2.51837901e+00,\n",
       "       -2.74785429e+00, -2.98185960e+00, -3.21514893e+00, -3.44214656e+00,\n",
       "       -3.65765920e+00, -3.85764181e+00, -4.03979906e+00, -4.20380906e+00,\n",
       "       -4.35106019e+00, -4.48396388e+00, -4.60506930e+00, -4.71628395e+00,\n",
       "       -4.81846326e+00, -4.91148994e+00, -4.99477713e+00, -5.06796610e+00,\n",
       "       -5.13151379e+00, -5.18691418e+00, -5.23645501e+00, -5.28261264e+00,\n",
       "       -5.32734062e+00, -5.37154910e+00, -5.41499012e+00, -5.45659780e+00,\n",
       "       -5.49514766e+00, -5.52996548e+00, -5.56139019e+00, -5.59079324e+00,\n",
       "       -5.62014288e+00, -5.65129151e+00, -5.68527493e+00, -5.72189981e+00,\n",
       "       -5.75977278e+00, -5.79674511e+00, -5.83058117e+00, -5.85957266e+00,\n",
       "       -5.88285617e+00, -5.90033845e+00, -5.91232567e+00, -5.91909358e+00,\n",
       "       -5.92065081e+00, -5.91683119e+00, -5.90766331e+00, -5.89380538e+00,\n",
       "       -5.87678345e+00, -5.85885930e+00, -5.84253377e+00, -5.82987070e+00,\n",
       "       -5.82191861e+00, -5.81847499e+00, -5.81830228e+00, -5.81972202e+00,\n",
       "       -5.82135605e+00, -5.82271455e+00, -5.82438483e+00, -5.82773569e+00,\n",
       "       -5.83425019e+00, -5.84474649e+00, -5.85878068e+00, -5.87444219e+00,\n",
       "       -5.88859349e+00, -5.89743858e+00, -5.89719479e+00, -5.88463745e+00,\n",
       "       -5.85738865e+00, -5.81397705e+00, -5.75381491e+00, -5.67724849e+00,\n",
       "       -5.58573400e+00, -5.48204358e+00, -5.37031486e+00, -5.25578223e+00,\n",
       "       -5.14415362e+00, -5.04074556e+00, -4.94958595e+00, -4.87270742e+00,\n",
       "       -4.80980144e+00, -4.75832050e+00, -4.71402541e+00, -4.67187947e+00,\n",
       "       -4.62709818e+00, -4.57609447e+00, -4.51705702e+00, -4.44998885e+00,\n",
       "       -4.37619902e+00, -4.29741699e+00, -4.21481591e+00, -4.12824830e+00,\n",
       "       -4.03592287e+00, -3.93462030e+00, -3.82039464e+00, -3.68956808e+00,\n",
       "       -3.53973561e+00, -3.37048863e+00, -3.18365888e+00, -2.98304744e+00,\n",
       "       -2.77376837e+00, -2.56143243e+00, -2.35139415e+00, -2.14820951e+00,\n",
       "       -1.95535211e+00, -1.77515757e+00, -1.60892663e+00, -1.45711226e+00,\n",
       "       -1.31953156e+00, -1.19556425e+00, -1.08431897e+00, -9.84761464e-01,\n",
       "       -8.95807186e-01, -8.16383794e-01, -7.45470485e-01, -6.82120297e-01,\n",
       "       -6.25470558e-01, -5.74745507e-01, -5.29253971e-01, -4.88384200e-01,\n",
       "       -4.51597221e-01, -4.18419648e-01, -3.88436499e-01, -3.61284362e-01,\n",
       "       -3.36645098e-01, -3.14240138e-01, -2.93825406e-01, -2.75186845e-01,\n",
       "       -2.58136492e-01, -2.42509068e-01, -2.28159008e-01, -2.14957897e-01,\n",
       "       -2.02792251e-01, -1.91561599e-01, -1.81176825e-01, -1.71558737e-01,\n",
       "       -1.62636832e-01, -1.54348224e-01, -1.46636715e-01, -1.39451993e-01,\n",
       "       -1.32748932e-01, -1.26486987e-01, -1.20629662e-01, -1.15144052e-01,\n",
       "       -1.10000434e-01, -1.05171922e-01, -1.00634150e-01, -9.63650028e-02,\n",
       "       -9.23443801e-02, -8.85539807e-02, -8.49771192e-02, -8.15985608e-02,\n",
       "       -7.84043759e-02, -7.53818104e-02, -7.25191711e-02, -6.98057234e-02,\n",
       "       -6.72316002e-02, -6.47877207e-02, -6.24657174e-02, -6.02578711e-02,\n",
       "       -5.81570524e-02, -5.61566694e-02, -5.42506205e-02, -5.24332520e-02,\n",
       "       -5.06993194e-02, -4.90439533e-02, -4.74626280e-02, -4.59511331e-02,\n",
       "       -4.45055477e-02, -4.31222176e-02, -4.17977337e-02, -4.05289130e-02,\n",
       "       -3.93127808e-02, -3.81465551e-02, -3.70276319e-02, -3.59535717e-02,\n",
       "       -3.49220875e-02, -3.39310336e-02, -3.29783952e-02, -3.20622794e-02,\n",
       "       -3.11809064e-02, -3.03326013e-02, -2.95157874e-02, -2.87289790e-02,\n",
       "       -2.79707753e-02, -2.72398550e-02, -2.65349706e-02, -2.58549441e-02,\n",
       "       -2.51986618e-02, -2.45650707e-02, -2.39531743e-02, -2.33620294e-02,\n",
       "       -2.27907424e-02, -2.22384662e-02, -2.17043979e-02, -2.11877755e-02,\n",
       "       -2.06878756e-02, -2.02040113e-02, -1.97355300e-02, -1.92818111e-02,\n",
       "       -1.88422646e-02, -1.84163288e-02, -1.80034694e-02, -1.76031771e-02,\n",
       "       -1.72149669e-02, -1.68383766e-02, -1.64729651e-02, -1.61183118e-02,\n",
       "       -1.57740155e-02, -1.54396926e-02, -1.51149773e-02, -1.47995197e-02,\n",
       "       -1.44929854e-02, -1.41950548e-02, -1.39054219e-02, -1.36237943e-02,\n",
       "       -1.33498916e-02, -1.30834457e-02, -1.28241996e-02, -1.25719069e-02,\n",
       "       -1.23263318e-02, -1.20872478e-02, -1.18544378e-02, -1.16276936e-02,\n",
       "       -1.14068153e-02, -1.11916108e-02, -1.09818959e-02, -1.07774934e-02,\n",
       "       -1.05782333e-02, -1.03839519e-02, -1.01944919e-02, -1.00097022e-02,\n",
       "       -9.82943727e-03, -9.65355701e-03, -9.48192669e-03, -9.31441656e-03,\n",
       "       -9.15090164e-03, -8.99126158e-03, -8.83538037e-03, -8.68314624e-03,\n",
       "       -8.53445143e-03, -8.38919202e-03, -8.24726781e-03, -8.10858212e-03,\n",
       "       -7.97304164e-03, -7.84055635e-03, -7.71103933e-03, -7.58440663e-03,\n",
       "       -7.46057722e-03, -7.33947278e-03, -7.22101765e-03, -7.10513872e-03,\n",
       "       -6.99176530e-03, -6.88082907e-03, -6.77226395e-03, -6.66600601e-03,\n",
       "       -6.56199343e-03, -6.46016638e-03, -6.36046696e-03, -6.26283913e-03,\n",
       "       -6.16722861e-03, -6.07358286e-03, -5.98185100e-03, -5.89198372e-03,\n",
       "       -5.80393327e-03, -5.71765335e-03, -5.63309911e-03, -5.55022706e-03,\n",
       "       -5.46899503e-03, -5.38936214e-03, -5.31128874e-03, -5.23473635e-03,\n",
       "       -5.15966766e-03, -5.08604644e-03, -5.01383756e-03, -4.94300689e-03,\n",
       "       -4.87352131e-03, -4.80534866e-03, -4.73845772e-03, -4.67281813e-03,\n",
       "       -4.60840045e-03, -4.54517602e-03, -4.48311704e-03, -4.42219647e-03,\n",
       "       -4.36238802e-03, -4.30366615e-03, -4.24600601e-03, -4.18938346e-03,\n",
       "       -4.13377500e-03, -4.07915778e-03, -4.02550958e-03, -3.97280876e-03,\n",
       "       -3.92103428e-03, -3.87016567e-03, -3.82018298e-03, -3.77106682e-03,\n",
       "       -3.72279829e-03, -3.67535899e-03, -3.62873102e-03, -3.58289692e-03,\n",
       "       -3.53783970e-03, -3.49354281e-03, -3.44999011e-03, -3.40716590e-03,\n",
       "       -3.36505484e-03, -3.32364202e-03, -3.28291288e-03, -3.24285323e-03,\n",
       "       -3.20344925e-03, -3.16468745e-03, -3.12655467e-03, -3.08903809e-03,\n",
       "       -3.05212519e-03, -3.01580378e-03, -2.98006194e-03, -2.94488805e-03,\n",
       "       -2.91027077e-03, -2.87619905e-03, -2.84266207e-03, -2.80964930e-03,\n",
       "       -2.77715045e-03, -2.74515546e-03, -2.71365452e-03, -2.68263806e-03,\n",
       "       -2.65209670e-03, -2.62202133e-03, -2.59240300e-03, -2.56323299e-03,\n",
       "       -2.53450279e-03, -2.50620406e-03, -2.47832868e-03, -2.45086868e-03,\n",
       "       -2.42381631e-03, -2.39716395e-03, -2.37090419e-03, -2.34502976e-03,\n",
       "       -2.31953358e-03, -2.29440869e-03, -2.26964831e-03, -2.24524580e-03,\n",
       "       -2.22119468e-03, -2.19748858e-03, -2.17412131e-03, -2.15108677e-03,\n",
       "       -2.12837903e-03, -2.10599226e-03, -2.08392078e-03, -2.06215901e-03,\n",
       "       -2.04070150e-03, -2.01954291e-03, -1.99867802e-03, -1.97810170e-03,\n",
       "       -1.95780896e-03, -1.93779489e-03, -1.91805469e-03, -1.89858366e-03,\n",
       "       -1.87937719e-03, -1.86043078e-03, -1.84174000e-03, -1.82330054e-03,\n",
       "       -1.80510815e-03, -1.78715868e-03, -1.76944806e-03, -1.75197231e-03,\n",
       "       -1.73472751e-03, -1.71770985e-03, -1.70091557e-03, -1.68434099e-03,\n",
       "       -1.66798250e-03, -1.65183659e-03, -1.63589977e-03, -1.62016866e-03,\n",
       "       -1.60463993e-03, -1.58931031e-03, -1.57417660e-03, -1.55923567e-03,\n",
       "       -1.54448442e-03, -1.52991985e-03, -1.51553899e-03, -1.50133894e-03,\n",
       "       -1.48731685e-03, -1.47346992e-03, -1.45979540e-03, -1.44629062e-03,\n",
       "       -1.43295292e-03, -1.41977971e-03, -1.40676846e-03, -1.39391667e-03,\n",
       "       -1.38122188e-03, -1.36868169e-03, -1.35629375e-03, -1.34405573e-03,\n",
       "       -1.33196537e-03, -1.32002043e-03, -1.30821871e-03, -1.29655807e-03,\n",
       "       -1.28503639e-03, -1.27365160e-03, -1.26240166e-03, -1.25128457e-03,\n",
       "       -1.24029835e-03, -1.22944109e-03, -1.21871089e-03, -1.20810587e-03,\n",
       "       -1.19762422e-03, -1.18726412e-03, -1.17702383e-03, -1.16690160e-03,\n",
       "       -1.15689572e-03, -1.14700452e-03, -1.13722636e-03, -1.12755961e-03,\n",
       "       -1.11800268e-03, -1.10855402e-03, -1.09921208e-03, -1.08997536e-03,\n",
       "       -1.08084236e-03, -1.07181164e-03, -1.06288176e-03, -1.05405130e-03,\n",
       "       -1.04531888e-03, -1.03668314e-03, -1.02814273e-03, -1.01969634e-03,\n",
       "       -1.01134268e-03, -1.00308045e-03, -9.94908423e-04, -9.86825352e-04,\n",
       "       -9.78830027e-04, -9.70921256e-04, -9.63097864e-04, -9.55358698e-04,\n",
       "       -9.47702621e-04, -9.40128518e-04, -9.32635287e-04, -9.25221849e-04,\n",
       "       -9.17887139e-04, -9.10630110e-04, -9.03449731e-04, -8.96344990e-04,\n",
       "       -8.89314888e-04, -8.82358443e-04, -8.75474689e-04, -8.68662675e-04,\n",
       "       -8.61921465e-04, -8.55250137e-04, -8.48647784e-04, -8.42113514e-04,\n",
       "       -8.35646447e-04, -8.29245717e-04, -8.22910474e-04, -8.16639877e-04,\n",
       "       -8.10433101e-04, -8.04289334e-04, -7.98207773e-04, -7.92187631e-04,\n",
       "       -7.86228130e-04, -7.80328507e-04, -7.74488008e-04, -7.68705891e-04,\n",
       "       -7.62981425e-04, -7.57313892e-04, -7.51702581e-04, -7.46146796e-04,\n",
       "       -7.40645848e-04, -7.35199060e-04, -7.29805763e-04, -7.24465301e-04,\n",
       "       -7.19177026e-04, -7.13940299e-04, -7.08754492e-04, -7.03618983e-04,\n",
       "       -6.98533164e-04, -6.93496432e-04, -6.88508194e-04, -6.83567866e-04,\n",
       "       -6.78674871e-04, -6.73828642e-04, -6.69028620e-04, -6.64274254e-04,\n",
       "       -6.59564999e-04, -6.54900320e-04, -6.50279688e-04, -6.45702584e-04,\n",
       "       -6.41168495e-04, -6.36676913e-04, -6.32227341e-04, -6.27819287e-04,\n",
       "       -6.23452265e-04, -6.19125799e-04, -6.14839416e-04, -6.10592652e-04,\n",
       "       -6.06385048e-04, -6.02216153e-04, -5.98085521e-04, -5.93992712e-04,\n",
       "       -5.89937294e-04, -5.85918838e-04, -5.81936923e-04, -5.77991133e-04,\n",
       "       -5.74081059e-04, -5.70206295e-04, -5.66366443e-04, -5.62561108e-04,\n",
       "       -5.58789904e-04, -5.55052446e-04, -5.51348356e-04, -5.47677263e-04,\n",
       "       -5.44038798e-04, -5.40432599e-04, -5.36858306e-04, -5.33315568e-04,\n",
       "       -5.29804035e-04, -5.26323364e-04, -5.22873216e-04, -5.19453254e-04,\n",
       "       -5.16063150e-04, -5.12702576e-04, -5.09371211e-04, -5.06068738e-04,\n",
       "       -5.02794842e-04, -4.99549215e-04, -4.96331551e-04, -4.93141548e-04,\n",
       "       -4.89978910e-04, -4.86843341e-04, -4.83734554e-04, -4.80652261e-04,\n",
       "       -4.77596179e-04, -4.74566031e-04, -4.71561540e-04, -4.68582435e-04,\n",
       "       -4.65628448e-04, -4.62699314e-04, -4.59794770e-04, -4.56914560e-04,\n",
       "       -4.54058427e-04, -4.51226120e-04, -4.48417390e-04, -4.45631992e-04,\n",
       "       -4.42869684e-04, -4.40130225e-04, -4.37413380e-04, -4.34718915e-04,\n",
       "       -4.32046599e-04, -4.29396205e-04, -4.26767507e-04, -4.24160284e-04,\n",
       "       -4.21574315e-04, -4.19009385e-04, -4.16465280e-04, -4.13941787e-04,\n",
       "       -4.11438697e-04, -4.08955805e-04, -4.06492907e-04, -4.04049801e-04,\n",
       "       -4.01626287e-04, -3.99222171e-04, -3.96837257e-04, -3.94471354e-04,\n",
       "       -3.92124272e-04, -3.89795823e-04, -3.87485824e-04, -3.85194090e-04,\n",
       "       -3.82920442e-04, -3.80664700e-04, -3.78426689e-04, -3.76206234e-04,\n",
       "       -3.74003163e-04, -3.71817305e-04, -3.69648493e-04, -3.67496560e-04,\n",
       "       -3.65361342e-04, -3.63242676e-04, -3.61140402e-04, -3.59054361e-04,\n",
       "       -3.56984397e-04, -3.54930355e-04, -3.52892081e-04, -3.50869424e-04,\n",
       "       -3.48862234e-04, -3.46870364e-04, -3.44893668e-04, -3.42932000e-04,\n",
       "       -3.40985217e-04, -3.39053179e-04, -3.37135746e-04, -3.35232780e-04,\n",
       "       -3.33344144e-04, -3.31469704e-04, -3.29609325e-04, -3.27762876e-04,\n",
       "       -3.25930227e-04, -3.24111248e-04, -3.22305812e-04, -3.20513794e-04,\n",
       "       -3.18735067e-04, -3.16969509e-04, -3.15216999e-04, -3.13477414e-04,\n",
       "       -3.11750637e-04, -3.10036550e-04, -3.08335034e-04, -3.06645977e-04,\n",
       "       -3.04969262e-04, -3.03304778e-04, -3.01652413e-04, -3.00012056e-04,\n",
       "       -2.98383599e-04, -2.96766934e-04, -2.95161953e-04, -2.93568551e-04,\n",
       "       -2.91986624e-04, -2.90416069e-04, -2.88856782e-04, -2.87308663e-04,\n",
       "       -2.85771613e-04, -2.84245531e-04, -2.82730321e-04, -2.81225885e-04,\n",
       "       -2.79732127e-04, -2.78248953e-04, -2.76776269e-04, -2.75313983e-04,\n",
       "       -2.73862001e-04, -2.72420235e-04, -2.70988593e-04, -2.69566987e-04,\n",
       "       -2.68155328e-04, -2.66753531e-04, -2.65361508e-04, -2.63979175e-04,\n",
       "       -2.62606447e-04, -2.61243240e-04, -2.59889473e-04, -2.58545063e-04,\n",
       "       -2.57209929e-04, -2.55883992e-04, -2.54567172e-04, -2.53259392e-04,\n",
       "       -2.51960572e-04, -2.50670637e-04, -2.49389510e-04, -2.48117117e-04,\n",
       "       -2.46853383e-04, -2.45598234e-04, -2.44351597e-04, -2.43113400e-04,\n",
       "       -2.41883572e-04, -2.40662042e-04, -2.39448740e-04, -2.38243596e-04,\n",
       "       -2.37046543e-04, -2.35857512e-04, -2.34676435e-04, -2.33503247e-04,\n",
       "       -2.32337882e-04, -2.31180273e-04, -2.30030358e-04, -2.28888071e-04,\n",
       "       -2.27753350e-04, -2.26626132e-04, -2.25506355e-04, -2.24393957e-04,\n",
       "       -2.23288878e-04, -2.22191057e-04, -2.21100435e-04, -2.20016953e-04,\n",
       "       -2.18940552e-04, -2.17871175e-04, -2.16808764e-04, -2.15753263e-04,\n",
       "       -2.14704615e-04, -2.13662765e-04, -2.12627657e-04, -2.11599237e-04,\n",
       "       -2.10577451e-04, -2.09562246e-04, -2.08553569e-04, -2.07551366e-04,\n",
       "       -2.06555586e-04, -2.05566179e-04, -2.04583091e-04, -2.03606274e-04,\n",
       "       -2.02635677e-04, -2.01671251e-04, -2.00712946e-04, -1.99760715e-04,\n",
       "       -1.98814508e-04, -1.97874279e-04, -1.96939980e-04, -1.96011563e-04,\n",
       "       -1.95088984e-04, -1.94172197e-04, -1.93261154e-04, -1.92355813e-04,\n",
       "       -1.91456127e-04, -1.90562053e-04, -1.89673548e-04, -1.88790567e-04,\n",
       "       -1.87913068e-04, -1.87041008e-04, -1.86174346e-04, -1.85313039e-04,\n",
       "       -1.84457045e-04, -1.83606325e-04, -1.82760837e-04, -1.81920542e-04,\n",
       "       -1.81085398e-04, -1.80255368e-04, -1.79430411e-04, -1.78610489e-04,\n",
       "       -1.77795564e-04, -1.76985597e-04, -1.76180551e-04, -1.75380388e-04,\n",
       "       -1.74585071e-04, -1.73794564e-04, -1.73008831e-04, -1.72227834e-04,\n",
       "       -1.71451540e-04, -1.70679911e-04, -1.69912913e-04, -1.69150512e-04,\n",
       "       -1.68392673e-04, -1.67639361e-04, -1.66890544e-04, -1.66146186e-04,\n",
       "       -1.65406257e-04, -1.64670721e-04, -1.63939547e-04, -1.63212703e-04,\n",
       "       -1.62490156e-04, -1.61771874e-04, -1.61057827e-04, -1.60347982e-04,\n",
       "       -1.59642310e-04, -1.58940778e-04, -1.58243358e-04, -1.57550018e-04,\n",
       "       -1.56860730e-04, -1.56175463e-04, -1.55494188e-04, -1.54816876e-04,\n",
       "       -1.54143498e-04, -1.53474026e-04, -1.52808431e-04, -1.52146685e-04,\n",
       "       -1.51488760e-04, -1.50834630e-04, -1.50184266e-04, -1.49537641e-04,\n",
       "       -1.48894729e-04, -1.48255502e-04, -1.47619935e-04, -1.46988002e-04,\n",
       "       -1.46359675e-04, -1.45734930e-04, -1.45113741e-04, -1.44496083e-04,\n",
       "       -1.43881930e-04, -1.43271259e-04, -1.42664043e-04, -1.42060259e-04,\n",
       "       -1.41459882e-04, -1.40862889e-04, -1.40269255e-04, -1.39678957e-04,\n",
       "       -1.39091972e-04, -1.38508276e-04, -1.37927846e-04, -1.37350660e-04,\n",
       "       -1.36776694e-04, -1.36205926e-04, -1.35638335e-04, -1.35073897e-04,\n",
       "       -1.34512591e-04, -1.33954396e-04, -1.33399289e-04, -1.32847249e-04,\n",
       "       -1.32298256e-04, -1.31752288e-04, -1.31209324e-04, -1.30669344e-04,\n",
       "       -1.30132327e-04, -1.29598253e-04, -1.29067101e-04, -1.28538852e-04,\n",
       "       -1.28013486e-04, -1.27490983e-04, -1.26971324e-04, -1.26454489e-04,\n",
       "       -1.25940460e-04, -1.25429216e-04, -1.24920740e-04])"
      ]
     },
     "execution_count": 133,
     "metadata": {},
     "output_type": "execute_result"
    }
   ],
   "source": [
    "gravb"
   ]
  },
  {
   "cell_type": "markdown",
   "metadata": {},
   "source": [
    "## Função para fechar polígono ( TO DO)"
   ]
  },
  {
   "cell_type": "code",
   "execution_count": 134,
   "metadata": {},
   "outputs": [],
   "source": [
    "# get the number of elements of xv (number of vertices of the polygon)\n",
    "n = np.size(xv)     \n",
    "# create new working arrays for the vertices of a closed polygon:\n",
    "x = np.zeros( (n+1,) )  \n",
    "z = np.zeros( (n+1,) ) \n",
    "x[0:n] = xv\n",
    "z[0:n] = zv\n",
    "# GAMBIARRA PARA PLOT DE CORES ASSSOCIADOOS À BACIA MODELADA (PENSAR EM ALGO MILHÓ) \n",
    "x[n:n+1] = min(xv)\n",
    "z[n:n+1] = np.min(zv)"
   ]
  },
  {
   "cell_type": "markdown",
   "metadata": {},
   "source": [
    "## Plot do modelo"
   ]
  },
  {
   "cell_type": "code",
   "execution_count": 162,
   "metadata": {},
   "outputs": [
    {
     "data": {
      "image/png": "[encoded data removed]",
      "text/plain": [
       "<Figure size 1008x576 with 2 Axes>"
      ]
     },
     "metadata": {
      "needs_background": "light"
     },
     "output_type": "display_data"
    }
   ],
   "source": [
    "%matplotlib inline\n",
    "# and the modeled basin:\n",
    "fig = plt.figure(figsize=(14,8))\n",
    "path = Path(np.array([x,z]).T)\n",
    "patch = PathPatch(path, facecolor='none')\n",
    "\n",
    "#######################################################\n",
    "plt.gca().add_patch(patch)\n",
    "plt.plot(xv,zv,'k-o')\n",
    "\n",
    "# plot the last and the first corner to close up the polygon:\n",
    "fs = 18 # font size for the label\n",
    "plt.gca().invert_yaxis()\n",
    "plt.xlabel(r'Easting $(m)$',fontsize=fs)\n",
    "plt.ylabel(r'Depth $(m)$',fontsize=fs)\n",
    "plt.xlim([np.min(xv), np.max(xv)])\n",
    "\n",
    "##################################################################\n",
    "# plot the density variation together with the basin:\n",
    "##################################################################\n",
    "\n",
    "im = plt.imshow(rhoz.reshape(np.size(Z),1),  cmap=plt.cm.Wistia, interpolation=\"bicubic\",\n",
    "                origin='lower',extent=[min(x), max(x), min(z), max(z)],aspect=\"auto\", clip_path=patch, clip_on=True)\n",
    "#im.set_clip_path(patch)\n",
    "\n",
    "# OBS:::::: para reverter a escala de cores, basta um simples \"_r\" ! sucesso de vida!!!!\n",
    "plt.gca().invert_yaxis()\n",
    "cbar = plt.colorbar()\n",
    "cbar.ax.set_ylabel(r'Density constrast $g/cm^3$', fontsize=fs)\n",
    "\n",
    "\n",
    "rb = np.array(rhob)-rho_ref\n",
    "print (rb)\n",
    "plt.scatter(xb,zb,s=60,c=rb,cmap='Wistia', vmin=min(rhoz), vmax=max(rhoz) )\n",
    "plt.tick_params(labelsize = 20)\n",
    "\n",
    "# Mat, verificar!!!!!!\n",
    "#plt.savefig('figs/.png', dpi=300, transparent=True, bbox_inches='tight')\n",
    "plt.show()"
   ]
  },
  {
   "cell_type": "markdown",
   "metadata": {},
   "source": [
    "## Plot do ajuste obtido"
   ]
  },
  {
   "cell_type": "code",
   "execution_count": 160,
   "metadata": {},
   "outputs": [
    {
     "data": {
      "image/png": "[encoded data removed]",
      "text/plain": [
       "<Figure size 1008x576 with 1 Axes>"
      ]
     },
     "metadata": {
      "needs_background": "light"
     },
     "output_type": "display_data"
    }
   ],
   "source": [
    "fig = plt.figure(figsize=(14,8))\n",
    "\n",
    "plt.plot(UTME,gobs,'.k', label='observed data')\n",
    "plt.plot(UTME,gravt,'.r', label='predicted data')\n",
    "plt.legend()\n",
    "plt.grid()\n",
    "#plt.title ('Gravity Data (mGal)', fontsize = 16)\n",
    "plt.xlabel ('Easting ($m$)', fontsize = 14)\n",
    "plt.ylabel ('Bouguer Anomaly ($mGal$)', fontsize = 14)\n",
    "plt.tick_params(labelsize = 20)\n",
    "#plt.savefig('figs/.png', dpi=300, transparent=True)\n",
    "plt.show()"
   ]
  },
  {
   "cell_type": "markdown",
   "metadata": {},
   "source": [
    "## Salvar arquivos"
   ]
  },
  {
   "cell_type": "code",
   "execution_count": 139,
   "metadata": {},
   "outputs": [],
   "source": [
    "# save fig and a txt file for reproduction:\n",
    "caminho = \"figs/\"\n",
    "C = np.zeros( (len(UTME),3) )\n",
    "C[:,0] = UTME\n",
    "C[:,1] = gravt\n",
    "C[:,2] = gobs\n",
    "# save text file for ploting issues:\n",
    "#np.savetxt(caminho+'.txt', C, header=' UTMx(m) Gpred(mGal) Gobs(mGal)', delimiter=' ' )"
   ]
  },
  {
   "cell_type": "code",
   "execution_count": 140,
   "metadata": {},
   "outputs": [],
   "source": [
    "# save fig and a txt file for reproduction:\n",
    "caminho = \"figs/\"\n",
    "\n",
    "B = np.zeros( (len(z),2) )\n",
    "B[:,0] = x\n",
    "B[:,1] = z\n",
    "\n",
    "# save text file for ploting issues:\n",
    "#np.savetxt(caminho+'.txt', B, header=' Easting(m) , depth(m)', delimiter=' ' )"
   ]
  },
  {
   "cell_type": "code",
   "execution_count": null,
   "metadata": {},
   "outputs": [],
   "source": []
  }
 ],
 "metadata": {
  "kernelspec": {
   "display_name": "Python 3",
   "language": "python",
   "name": "python3"
  },
  "language_info": {
   "codemirror_mode": {
    "name": "ipython",
    "version": 3
   },
   "file_extension": ".py",
   "mimetype": "text/x-python",
   "name": "python",
   "nbconvert_exporter": "python",
   "pygments_lexer": "ipython3",
   "version": "3.7.1"
  }
 },
 "nbformat": 4,
 "nbformat_minor": 2
}
