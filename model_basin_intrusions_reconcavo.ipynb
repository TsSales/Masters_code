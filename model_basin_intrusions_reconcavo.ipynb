{
 "cells": [
  {
   "cell_type": "markdown",
   "metadata": {},
   "source": [
    "### Script de modelagem direta da bacia de reconcavo - dados grav da ANP:"
   ]
  },
  {
   "cell_type": "code",
   "execution_count": 3,
   "metadata": {},
   "outputs": [],
   "source": [
    "# importando pacotes necessarios:\n",
    "import numpy as np # pacote numerico\n",
    "import pylab as py \n",
    "import pandas as pd\n",
    "#from numpy.linalg import inv # pacote de algebra linear\n",
    "import matplotlib.pyplot as plt # pacote de plotagem\n",
    "#import pandas as pd # pacode de tratamento de dados \n",
    "#from mpl_toolkits.basemap import Basemap\n",
    "#from matplotlib.patches import Polygon\n",
    "#from scipy.interpolate import Rbf # radial basis functions technique\n",
    "#para plotar as figuras nas celulas do jupyter notebook:\n",
    "from matplotlib.path import Path\n",
    "from matplotlib.patches import PathPatch\n",
    "#%matplotlib inline\n",
    "%matplotlib qt\n",
    "#import utm\n",
    "#plt.plot ([1,2])"
   ]
  },
  {
   "cell_type": "markdown",
   "metadata": {},
   "source": [
    "### Importando os pacotes com as nossas funcoes:"
   ]
  },
  {
   "cell_type": "code",
   "execution_count": 4,
   "metadata": {},
   "outputs": [],
   "source": [
    "from modules.iplots import pick_points, model_masses # para fazer o plot interativo\n",
    "from modules.gravity import grav2D_anom, g_sphere # funcao que calcula dados de gravidade (rao 1994)"
   ]
  },
  {
   "cell_type": "markdown",
   "metadata": {},
   "source": [
    "### Leitura dos dados reais do perfil de Reconcavo:"
   ]
  },
  {
   "cell_type": "code",
   "execution_count": 6,
   "metadata": {
    "scrolled": false
   },
   "outputs": [
    {
     "data": {
      "text/plain": [
       "914"
      ]
     },
     "execution_count": 6,
     "metadata": {},
     "output_type": "execute_result"
    }
   ],
   "source": [
    "boug_residual, UTMe, UTMn= np.loadtxt('bouguer_recon_perfil_MONO.txt',\n",
    "                                             skiprows=1, usecols=(0,3,4), unpack=True)\n",
    "np.size(UTMe)"
   ]
  },
  {
   "cell_type": "code",
   "execution_count": 37,
   "metadata": {},
   "outputs": [],
   "source": [
    "# Plot dos dados para verificação:\n",
    "plt.figure(figsize=(15,7), facecolor='w')\n",
    "\n",
    "p1 = plt.scatter(UTMe,UTMn,s=5.0,c=boug_residual,marker='*', cmap=plt.cm.jet)\n",
    "cbar = plt.colorbar(p1, aspect=30, fraction = 0.03, orientation=\"vertical\")\n",
    "cbar.set_label('Residual Bouguer Anomaly $ (mGal) $',fontsize=15, rotation = 90)\n",
    "#plt.plot(x_utm, gz,'*r')\n",
    "#plt.title ('Gravity Data (mGal)', fontsize = 16)\n",
    "plt.xlabel ('Easting ($m$)', fontsize = 14)\n",
    "plt.ylabel ('Northing ($m$)', fontsize = 14)\n",
    "plt.grid()\n",
    "#plt.savefig('Bouguer.png', dpi=300, transparent=True, bbox_inches=\"tight\" )\n",
    "plt.show()"
   ]
  },
  {
   "cell_type": "markdown",
   "metadata": {},
   "source": [
    "### Definicao da area do modelo de bacia sedimentar:"
   ]
  },
  {
   "cell_type": "code",
   "execution_count": 8,
   "metadata": {},
   "outputs": [
    {
     "name": "stdout",
     "output_type": "stream",
     "text": [
      "[514122.3547257932, 589038.9669335944, 0.0, 4300.0]\n"
     ]
    }
   ],
   "source": [
    "area= []\n",
    "xmin = np.min(UTMe)\n",
    "xmax = np.max(UTMe)\n",
    "zmin =  0.0 # Nivel medio dos mares (verificar) #np.min( (elev) ) #-100.0\n",
    "zmax = 4300.0 #adaptado para metros (vindo da analise dos dados sismicos) !\n",
    "area = [xmin, xmax, zmin, zmax]\n",
    "print(area)\n"
   ]
  },
  {
   "cell_type": "markdown",
   "metadata": {},
   "source": [
    "### Criacao do modelo de bacia atraves dos clicks na area de plot: "
   ]
  },
  {
   "cell_type": "code",
   "execution_count": 9,
   "metadata": {},
   "outputs": [],
   "source": [
    "%matplotlib qt \n",
    "axes = plt.figure().add_subplot(1,1,1)\n",
    "xv,zv = pick_points(area, axes, marker='o', color='k', size=8, xy2ne=False)"
   ]
  },
  {
   "cell_type": "markdown",
   "metadata": {},
   "source": [
    "### calculo da anomalia de gravidade produzido pelo modelo de bacia (artigo do Rao et. al., 1994):"
   ]
  },
  {
   "cell_type": "code",
   "execution_count": 44,
   "metadata": {},
   "outputs": [
    {
     "name": "stdout",
     "output_type": "stream",
     "text": [
      "densidade no topo da bacia em g/cm³= 2.67\n"
     ]
    }
   ],
   "source": [
    "# info da propriedade fisica:\n",
    "delta_rho = -0.33 #(g/cm³)# contraste de Densidade do arenito em relacao ao embasamento local no topo da bacia!\n",
    "beta = 2.57\n",
    "# convertendo para SI(kg/m³):\n",
    "rho_ref = 3.0 # densidade do embasamento (checar!)\n",
    "rho = delta_rho + rho_ref\n",
    "#rho = rho * 1000.0 \n",
    "print('densidade no topo da bacia em g/cm³=', rho)"
   ]
  },
  {
   "cell_type": "code",
   "execution_count": 45,
   "metadata": {},
   "outputs": [],
   "source": [
    "#Criacao de variaveis necessarias para o calculo da anomalia:\n",
    "nv = np.size(xv)\n",
    "#print nv\n",
    "nper = np.size(UTMe)\n",
    "#print nper\n",
    "# calculo da anomalia grav atraves de rao1994:\n",
    "xd = np.zeros( (nv,) )\n",
    "zd = np.zeros( (nv,) )\n",
    "grav = np.zeros( (nper,) )\n",
    "for i in range(nper):\n",
    "    for j in range(nv):\n",
    "        xd[j] = ( xv[j] - UTMe[i]) /1000.0\n",
    "        zd[j] = (zv[j] - 0) /1000.0\n",
    "    # chamando a funcao do rao 1994:\n",
    "    grav[i] = grav2D_anom(xd,zd,delta_rho,beta)"
   ]
  },
  {
   "cell_type": "code",
   "execution_count": 46,
   "metadata": {},
   "outputs": [],
   "source": [
    "# computing hyperbolic density function\n",
    "###################################################\n",
    "\n",
    "z = np.linspace( np.amin(zv), np.amax(zv), np.size(zv) ) # em km\n",
    "rhoz = (delta_rho)*beta**2/(beta + (z/100.0) )**2 # conversao para g/cm3 (CORRETO!!!!)\n",
    "#rhoz = rhoz + 2.670"
   ]
  },
  {
   "cell_type": "code",
   "execution_count": 47,
   "metadata": {},
   "outputs": [],
   "source": [
    "# save figure and a file for reproduction:\n",
    "A = np.zeros( (len(z),2) )\n",
    "A[:,0] = z\n",
    "A[:,1] = rhoz\n",
    "\n",
    "#caminho = 'figs/density_intrusion5'\n",
    "# save text file for ploting issues:\n",
    "#np.savetxt(caminho+'.txt', A, header=' Z , rhoZ', delimiter=' ' )"
   ]
  },
  {
   "cell_type": "code",
   "execution_count": 48,
   "metadata": {},
   "outputs": [
    {
     "data": {
      "image/png": "[encoded data removed]",
      "text/plain": [
       "<Figure size 504x504 with 1 Axes>"
      ]
     },
     "metadata": {
      "needs_background": "light"
     },
     "output_type": "display_data"
    }
   ],
   "source": [
    "# plot of the density distribution:\n",
    "plt.close('all')\n",
    "fig = plt.figure(figsize=(7,7))\n",
    "\n",
    "# definition of fontsize:\n",
    "fs = 15 \n",
    "# invert axis\n",
    "plt.gca().invert_yaxis()\n",
    "plt.gca().invert_xaxis()\n",
    "\n",
    "# set labelsize \n",
    "plt.tick_params(axis='y', labelsize=fs-2)\n",
    "plt.tick_params(axis='x', labelsize=fs-2,labelbottom=True,labeltop=False)\n",
    "\n",
    "plt.text(rhoz[0]+0.01, z[0]+0.148, str( format(rhoz[0],'.3f') ), style='italic',\n",
    "        bbox={'facecolor':'red', 'alpha':0.5, 'pad':10})\n",
    "\n",
    "plt.plot(rhoz,z,'k-',linewidth=2.0)\n",
    "plt.plot(rhoz[0],z[0],'ro',linewidth=2.0)\n",
    "plt.grid()\n",
    "plt.xlabel('Contraste de densidade $(g/cm^3)$',fontsize=fs)\n",
    "plt.ylabel('Profundidade $(m)$',fontsize=fs)\n",
    "plt.axis([np.max(rhoz)+0.05, np.min(rhoz)-0.02, np.max(z)+0.1, np.min(z)-0.1])\n",
    "#plt.savefig(caminho+'.png', dpi=300, transparent=True, bbox_inches=\"tight\" )\n",
    "plt.show()\n",
    "#############################################################################################################"
   ]
  },
  {
   "cell_type": "code",
   "execution_count": 49,
   "metadata": {},
   "outputs": [],
   "source": [
    "# get the number of elements of xv (number of vertices of the polygon)\n",
    "n = np.size(xv)     \n",
    "# create new working arrays for the vertices of a closed polygon:\n",
    "x = np.zeros( (n+1,) )  \n",
    "z = np.zeros( (n+1,) ) \n",
    "x[0:n] = xv\n",
    "z[0:n] = zv\n",
    "# GAMBIARRA PARA PLOT DE CORES ASSSOCIADOOS À BACIA MODELADA (PENSAR EM ALGO MILHÓ) \n",
    "x[n:n+1] = min(xv)\n",
    "z[n:n+1] = np.min(zv)"
   ]
  },
  {
   "cell_type": "code",
   "execution_count": 50,
   "metadata": {},
   "outputs": [],
   "source": [
    "# save fig and a txt file for reproduction:\n",
    "#caminho = \"figs/model_intrusion_reconcavo1\"\n",
    "\n",
    "B = np.zeros( (len(z),2) )\n",
    "B[:,0] = x\n",
    "B[:,1] = z\n",
    "\n",
    "# save text file for ploting issues:\n",
    "#np.savetxt(caminho+'.txt', B, header=' Easting(m) , depth(m)', delimiter=' ' )"
   ]
  },
  {
   "cell_type": "code",
   "execution_count": 28,
   "metadata": {},
   "outputs": [],
   "source": [
    "# and the modeled basin:\n",
    "plt.close('all')\n",
    "fig = plt.figure(figsize=(14,8))\n",
    "path = Path(np.array([x,z]).transpose())\n",
    "patch = PathPatch(path, facecolor='none')\n",
    "\n",
    "plt.gca().add_patch(patch) \n",
    "plt.plot(xv,zv,'k-o') #DEVE SER XV E ZV REALMENTE!!!\n",
    "\n",
    "# plot the last and the first corner to close up the polygon:\n",
    "fs = 18 # font size for the label\n",
    "plt.gca().invert_yaxis()\n",
    "plt.xlabel(r'UTM E $(m)$',fontsize=fs)\n",
    "plt.ylabel(r'Profundidade $(m)$',fontsize=fs)\n",
    "plt.xlim([np.min(xv), np.max(xv)])\n",
    "\n",
    "##################################################################\n",
    "# plot the density variation together with the basin:\n",
    "##################################################################\n",
    "\n",
    "im = plt.imshow(rhoz.reshape(np.size(zv),1),  cmap=plt.cm.Wistia,interpolation=\"bicubic\",\n",
    "                origin='lower',extent=[min(xv), max(xv), min(zv), max(zv)],aspect=\"auto\", clip_path=patch, clip_on=True)\n",
    "#im.set_clip_path(patch)\n",
    "\n",
    "# OBS:::::: para reverter a escala de cores, basta um simples \"_r\" ! sucesso de vida!!!!\n",
    "plt.gca().invert_yaxis()\n",
    "cbar = plt.colorbar()\n",
    "cbar.ax.set_ylabel(r'Contraste de densidade $g/cm^3$', fontsize=fs)\n",
    "\n",
    "#plt.savefig(caminho+'.png', dpi=300, transparent=True, bbox_inches=\"tight\" )\n",
    "plt.show()"
   ]
  },
  {
   "cell_type": "markdown",
   "metadata": {},
   "source": [
    "### Plot do modelo atual + os dados reais para comparação:"
   ]
  },
  {
   "cell_type": "code",
   "execution_count": 20,
   "metadata": {},
   "outputs": [],
   "source": [
    "# save fig and a txt file for reproduction:\n",
    "#caminho = \"figs/datafit_intrusion5\"\n",
    "\n",
    "C = np.zeros( (len(UTMe),3) )\n",
    "C[:,0] = UTMe\n",
    "C[:,1] = grav\n",
    "C[:,2] = boug_residual\n",
    "\n",
    "# save text file for ploting issues:\n",
    "#np.savetxt(caminho+'.txt', C, header=' Easting(m) Gpred(mGal) Gobs(mGal)', delimiter=' ' )"
   ]
  },
  {
   "cell_type": "code",
   "execution_count": 35,
   "metadata": {},
   "outputs": [],
   "source": [
    "plt.close('all')\n",
    "plt.plot(UTMe, boug_residual,'.k', label='dado observado')\n",
    "plt.plot(UTMe, grav,'.r', label='dado predito')\n",
    "plt.legend()\n",
    "plt.grid()\n",
    "plt.xlabel('UTM E (m)', fontsize = 14)\n",
    "plt.ylabel('Anomalia Bouguer (mGal)', fontsize = 14)\n",
    "#plt.savefig(caminho+'.png', dpi=300, transparent=True, bbox_inches=\"tight\" )\n",
    "plt.show()"
   ]
  },
  {
   "cell_type": "markdown",
   "metadata": {},
   "source": [
    "# Criacao de um branch para nao perder clicks promissores!!!!!!"
   ]
  },
  {
   "cell_type": "code",
   "execution_count": null,
   "metadata": {},
   "outputs": [],
   "source": [
    "## criacao do branch --- variaveis guardadas para nao perder cliques promissores!\n",
    "### SOMENTE RODAR ESSA CELULA EM CASO DE MELHORIAS SIGNFICATIVAS NOS CLICKS!!!!\n",
    "x_branch = np.copy(xv)\n",
    "y_branch = np.copy(zv)\n",
    "gz_branch = np.copy(grav)\n",
    "\n",
    "### TODO:: Gerar um arquivo com as variaveis branch para backup de clicks promissoes!"
   ]
  },
  {
   "cell_type": "code",
   "execution_count": null,
   "metadata": {},
   "outputs": [],
   "source": [
    "# ---- comparacao entre o dado branch vs o ultimo click-----:\n",
    "plt.plot(UTMe, grav,'.k', label='observed data')\n",
    "plt.plot(UTMe, gz_branch,'.m', label='branch data')\n",
    "plt.legend()\n",
    "plt.grid()\n",
    "plt.title ('Gravity Data (mGal)', fontsize = 16)\n",
    "plt.xlabel ('UTM x(m)', fontsize = 14)\n",
    "plt.ylabel ('Gravity Anomaly (mGal)', fontsize = 14)\n",
    "plt.show()"
   ]
  },
  {
   "cell_type": "markdown",
   "metadata": {},
   "source": [
    "## leitura de dados anteriores"
   ]
  },
  {
   "cell_type": "code",
   "execution_count": 10,
   "metadata": {},
   "outputs": [],
   "source": [
    "#leitura dos dados do modelo\n",
    "\n",
    "#modelo= pd.read_csv('Dados finais/model_basin_reconcavo5.txt', sep=' ', header=0 )\n",
    "#xv=modelo['Easting(m)']\n",
    "#zv=modelo['depth(m)']\n"
   ]
  },
  {
   "cell_type": "code",
   "execution_count": 14,
   "metadata": {},
   "outputs": [],
   "source": [
    "#leitura dos dados do ajuste\n",
    "\n",
    "#ajuste= pd.read_csv('Dados finais/datafit5.txt', sep=' ', header=0 )\n",
    "#ajuste"
   ]
  },
  {
   "cell_type": "markdown",
   "metadata": {},
   "source": [
    "## Inclusão de heterogeneidades"
   ]
  },
  {
   "cell_type": "code",
   "execution_count": 38,
   "metadata": {},
   "outputs": [],
   "source": [
    "# limites para a densidade da intrusao (g/cm3)\n",
    "arearho= [2.4,2.5,2.4,2.5]"
   ]
  },
  {
   "cell_type": "code",
   "execution_count": 39,
   "metadata": {},
   "outputs": [],
   "source": [
    "elev=np.zeros((914))"
   ]
  },
  {
   "cell_type": "code",
   "execution_count": 40,
   "metadata": {},
   "outputs": [],
   "source": [
    "\n",
    "%matplotlib qt\n",
    "# obtencao das coordenadas 2D e a densidade da intrusao atraves de clicks:\n",
    "xb, zb, rhob = model_masses(area, arearho, background=[xv,zv])\n"
   ]
  },
  {
   "cell_type": "code",
   "execution_count": 41,
   "metadata": {},
   "outputs": [],
   "source": [
    "# Calcular a anomalia produzida pelas bolinhas:\n",
    "intruso=[] # lista para guardar todas as bolinhas:\n",
    "for i in range(len(xb)):\n",
    "    intruso.append( [ xb[i],zb[i],rhob[i] ] )\n",
    "gravb = g_sphere(UTMe, elev, intruso, component='z')"
   ]
  },
  {
   "cell_type": "code",
   "execution_count": 42,
   "metadata": {},
   "outputs": [],
   "source": [
    "\n",
    "# principio da superposicao para computar o efeito da poligono (grav) + intrusao (gravb}):\n",
    "gravt = grav + gravb"
   ]
  },
  {
   "cell_type": "code",
   "execution_count": 43,
   "metadata": {},
   "outputs": [
    {
     "ename": "ValueError",
     "evalue": "setting an array element with a sequence.",
     "output_type": "error",
     "traceback": [
      "\u001b[1;31m---------------------------------------------------------------------------\u001b[0m",
      "\u001b[1;31mValueError\u001b[0m                                Traceback (most recent call last)",
      "\u001b[1;32m<ipython-input-43-9da5d0842146>\u001b[0m in \u001b[0;36m<module>\u001b[1;34m\u001b[0m\n\u001b[0;32m      2\u001b[0m \u001b[1;31m# and the modeled basin:\u001b[0m\u001b[1;33m\u001b[0m\u001b[1;33m\u001b[0m\u001b[1;33m\u001b[0m\u001b[0m\n\u001b[0;32m      3\u001b[0m \u001b[0mfig\u001b[0m \u001b[1;33m=\u001b[0m \u001b[0mplt\u001b[0m\u001b[1;33m.\u001b[0m\u001b[0mfigure\u001b[0m\u001b[1;33m(\u001b[0m\u001b[0mfigsize\u001b[0m\u001b[1;33m=\u001b[0m\u001b[1;33m(\u001b[0m\u001b[1;36m14\u001b[0m\u001b[1;33m,\u001b[0m\u001b[1;36m8\u001b[0m\u001b[1;33m)\u001b[0m\u001b[1;33m)\u001b[0m\u001b[1;33m\u001b[0m\u001b[1;33m\u001b[0m\u001b[0m\n\u001b[1;32m----> 4\u001b[1;33m \u001b[0mpath\u001b[0m \u001b[1;33m=\u001b[0m \u001b[0mPath\u001b[0m\u001b[1;33m(\u001b[0m\u001b[0mnp\u001b[0m\u001b[1;33m.\u001b[0m\u001b[0marray\u001b[0m\u001b[1;33m(\u001b[0m\u001b[1;33m[\u001b[0m\u001b[0mx\u001b[0m\u001b[1;33m,\u001b[0m\u001b[0mz\u001b[0m\u001b[1;33m]\u001b[0m\u001b[1;33m)\u001b[0m\u001b[1;33m.\u001b[0m\u001b[0mT\u001b[0m\u001b[1;33m)\u001b[0m\u001b[1;33m\u001b[0m\u001b[1;33m\u001b[0m\u001b[0m\n\u001b[0m\u001b[0;32m      5\u001b[0m \u001b[0mpatch\u001b[0m \u001b[1;33m=\u001b[0m \u001b[0mPathPatch\u001b[0m\u001b[1;33m(\u001b[0m\u001b[0mpath\u001b[0m\u001b[1;33m,\u001b[0m \u001b[0mfacecolor\u001b[0m\u001b[1;33m=\u001b[0m\u001b[1;34m'none'\u001b[0m\u001b[1;33m)\u001b[0m\u001b[1;33m\u001b[0m\u001b[1;33m\u001b[0m\u001b[0m\n\u001b[0;32m      6\u001b[0m \u001b[1;33m\u001b[0m\u001b[0m\n",
      "\u001b[1;32m~\\AppData\\Local\\Continuum\\anaconda3\\lib\\site-packages\\matplotlib\\path.py\u001b[0m in \u001b[0;36m__init__\u001b[1;34m(self, vertices, codes, _interpolation_steps, closed, readonly)\u001b[0m\n\u001b[0;32m    125\u001b[0m             \u001b[1;32mand\u001b[0m \u001b[0mcodes\u001b[0m \u001b[1;32mas\u001b[0m \u001b[0mread\u001b[0m\u001b[1;33m-\u001b[0m\u001b[0monly\u001b[0m \u001b[0marrays\u001b[0m\u001b[1;33m.\u001b[0m\u001b[1;33m\u001b[0m\u001b[1;33m\u001b[0m\u001b[0m\n\u001b[0;32m    126\u001b[0m         \"\"\"\n\u001b[1;32m--> 127\u001b[1;33m         \u001b[0mvertices\u001b[0m \u001b[1;33m=\u001b[0m \u001b[0m_to_unmasked_float_array\u001b[0m\u001b[1;33m(\u001b[0m\u001b[0mvertices\u001b[0m\u001b[1;33m)\u001b[0m\u001b[1;33m\u001b[0m\u001b[1;33m\u001b[0m\u001b[0m\n\u001b[0m\u001b[0;32m    128\u001b[0m         \u001b[1;32mif\u001b[0m \u001b[0mvertices\u001b[0m\u001b[1;33m.\u001b[0m\u001b[0mndim\u001b[0m \u001b[1;33m!=\u001b[0m \u001b[1;36m2\u001b[0m \u001b[1;32mor\u001b[0m \u001b[0mvertices\u001b[0m\u001b[1;33m.\u001b[0m\u001b[0mshape\u001b[0m\u001b[1;33m[\u001b[0m\u001b[1;36m1\u001b[0m\u001b[1;33m]\u001b[0m \u001b[1;33m!=\u001b[0m \u001b[1;36m2\u001b[0m\u001b[1;33m:\u001b[0m\u001b[1;33m\u001b[0m\u001b[1;33m\u001b[0m\u001b[0m\n\u001b[0;32m    129\u001b[0m             raise ValueError(\n",
      "\u001b[1;32m~\\AppData\\Local\\Continuum\\anaconda3\\lib\\site-packages\\matplotlib\\cbook\\__init__.py\u001b[0m in \u001b[0;36m_to_unmasked_float_array\u001b[1;34m(x)\u001b[0m\n\u001b[0;32m   1363\u001b[0m         \u001b[1;32mreturn\u001b[0m \u001b[0mnp\u001b[0m\u001b[1;33m.\u001b[0m\u001b[0mma\u001b[0m\u001b[1;33m.\u001b[0m\u001b[0masarray\u001b[0m\u001b[1;33m(\u001b[0m\u001b[0mx\u001b[0m\u001b[1;33m,\u001b[0m \u001b[0mfloat\u001b[0m\u001b[1;33m)\u001b[0m\u001b[1;33m.\u001b[0m\u001b[0mfilled\u001b[0m\u001b[1;33m(\u001b[0m\u001b[0mnp\u001b[0m\u001b[1;33m.\u001b[0m\u001b[0mnan\u001b[0m\u001b[1;33m)\u001b[0m\u001b[1;33m\u001b[0m\u001b[1;33m\u001b[0m\u001b[0m\n\u001b[0;32m   1364\u001b[0m     \u001b[1;32melse\u001b[0m\u001b[1;33m:\u001b[0m\u001b[1;33m\u001b[0m\u001b[1;33m\u001b[0m\u001b[0m\n\u001b[1;32m-> 1365\u001b[1;33m         \u001b[1;32mreturn\u001b[0m \u001b[0mnp\u001b[0m\u001b[1;33m.\u001b[0m\u001b[0masarray\u001b[0m\u001b[1;33m(\u001b[0m\u001b[0mx\u001b[0m\u001b[1;33m,\u001b[0m \u001b[0mfloat\u001b[0m\u001b[1;33m)\u001b[0m\u001b[1;33m\u001b[0m\u001b[1;33m\u001b[0m\u001b[0m\n\u001b[0m\u001b[0;32m   1366\u001b[0m \u001b[1;33m\u001b[0m\u001b[0m\n\u001b[0;32m   1367\u001b[0m \u001b[1;33m\u001b[0m\u001b[0m\n",
      "\u001b[1;32m~\\AppData\\Local\\Continuum\\anaconda3\\lib\\site-packages\\numpy\\core\\numeric.py\u001b[0m in \u001b[0;36masarray\u001b[1;34m(a, dtype, order)\u001b[0m\n\u001b[0;32m    499\u001b[0m \u001b[1;33m\u001b[0m\u001b[0m\n\u001b[0;32m    500\u001b[0m     \"\"\"\n\u001b[1;32m--> 501\u001b[1;33m     \u001b[1;32mreturn\u001b[0m \u001b[0marray\u001b[0m\u001b[1;33m(\u001b[0m\u001b[0ma\u001b[0m\u001b[1;33m,\u001b[0m \u001b[0mdtype\u001b[0m\u001b[1;33m,\u001b[0m \u001b[0mcopy\u001b[0m\u001b[1;33m=\u001b[0m\u001b[1;32mFalse\u001b[0m\u001b[1;33m,\u001b[0m \u001b[0morder\u001b[0m\u001b[1;33m=\u001b[0m\u001b[0morder\u001b[0m\u001b[1;33m)\u001b[0m\u001b[1;33m\u001b[0m\u001b[1;33m\u001b[0m\u001b[0m\n\u001b[0m\u001b[0;32m    502\u001b[0m \u001b[1;33m\u001b[0m\u001b[0m\n\u001b[0;32m    503\u001b[0m \u001b[1;33m\u001b[0m\u001b[0m\n",
      "\u001b[1;31mValueError\u001b[0m: setting an array element with a sequence."
     ]
    },
    {
     "data": {
      "text/plain": [
       "<Figure size 1008x576 with 0 Axes>"
      ]
     },
     "metadata": {},
     "output_type": "display_data"
    }
   ],
   "source": [
    "%matplotlib inline\n",
    "# and the modeled basin:\n",
    "fig = plt.figure(figsize=(14,8))\n",
    "path = Path(np.array([x,z]).T)\n",
    "patch = PathPatch(path, facecolor='none')\n",
    "\n",
    "#######################################################\n",
    "plt.gca().add_patch(patch)\n",
    "plt.plot(xv,zv,'k-o')\n",
    "\n",
    "# plot the last and the first corner to close up the polygon:\n",
    "fs = 18 # font size for the label\n",
    "plt.gca().invert_yaxis()\n",
    "plt.xlabel(r'UTM x $(m)$',fontsize=fs)\n",
    "plt.ylabel(r'Depth $(m)$',fontsize=fs)\n",
    "plt.xlim([np.min(xv), np.max(xv)])\n",
    "\n",
    "##################################################################\n",
    "# plot the density variation together with the basin:\n",
    "##################################################################\n",
    "\n",
    "im = plt.imshow(rhoz.reshape(np.size(zv),1),  cmap=plt.cm.Wistia, interpolation=\"bicubic\",\n",
    "                origin='lower',extent=[min(x), max(x), min(z), max(z)],aspect=\"auto\", clip_path=patch, clip_on=True)\n",
    "#im.set_clip_path(patch)\n",
    "\n",
    "# OBS:::::: para reverter a escala de cores, basta um simples \"_r\" ! sucesso de vida!!!!\n",
    "plt.gca().invert_yaxis()\n",
    "cbar = plt.colorbar()\n",
    "cbar.ax.set_ylabel(r'Density constrast in $g/cm^3$', fontsize=fs)\n",
    "\n",
    "\n",
    "rb = np.array(rhob)-rho_ref\n",
    "print (rb)\n",
    "plt.scatter(xb,zb,s=60,c=rb,cmap='Wistia', vmin=min(rhoz), vmax=max(rhoz) )\n",
    "\n",
    "# Mat, verificar!!!!!!\n",
    "#plt.savefig(caminho +\".png\", dpi=300, transparent=True, bbox_inches='tight')\n",
    "plt.show()"
   ]
  },
  {
   "cell_type": "markdown",
   "metadata": {},
   "source": [
    "## Plot do ajuste dos dados com a intrusao"
   ]
  },
  {
   "cell_type": "code",
   "execution_count": 108,
   "metadata": {},
   "outputs": [],
   "source": [
    "\n",
    "# save fig and a txt file for reproduction:\n",
    "#caminho = \"figs/datafit_intruso1\"\n",
    "C = np.zeros( (len(UTMe),3) )\n",
    "C[:,0] = UTMe\n",
    "C[:,1] = gravt\n",
    "C[:,2] = boug_residual\n",
    "# save text file for ploting issues:\n",
    "#np.savetxt(caminho+'.txt', C, header=' UTMx(m) Gpred(mGal) Gobs(mGal)', delimiter=' ' )"
   ]
  },
  {
   "cell_type": "code",
   "execution_count": 110,
   "metadata": {},
   "outputs": [
    {
     "data": {
      "image/png": "[encoded data removed]",
      "text/plain": [
       "<Figure size 1008x576 with 1 Axes>"
      ]
     },
     "metadata": {
      "needs_background": "light"
     },
     "output_type": "display_data"
    }
   ],
   "source": [
    "fig = plt.figure(figsize=(14,8))\n",
    "\n",
    "plt.plot(UTMe,boug_residual,'.k', label='observed data')\n",
    "plt.plot(UTMe,gravt,'.r', label='predicted data')\n",
    "plt.legend()\n",
    "plt.grid()\n",
    "#plt.title ('Gravity Data (mGal)', fontsize = 16)\n",
    "plt.xlabel ('UTM x(m)', fontsize = 14)\n",
    "plt.ylabel ('Bouguer Anomaly (mGal)', fontsize = 14)\n",
    "#plt.savefig(caminho+'png', dpi=300)\n",
    "plt.show()"
   ]
  },
  {
   "cell_type": "code",
   "execution_count": null,
   "metadata": {},
   "outputs": [],
   "source": []
  }
 ],
 "metadata": {
  "kernelspec": {
   "display_name": "Python 3",
   "language": "python",
   "name": "python3"
  },
  "language_info": {
   "codemirror_mode": {
    "name": "ipython",
    "version": 3
   },
   "file_extension": ".py",
   "mimetype": "text/x-python",
   "name": "python",
   "nbconvert_exporter": "python",
   "pygments_lexer": "ipython3",
   "version": "3.7.1"
  }
 },
 "nbformat": 4,
 "nbformat_minor": 2
}
