{
 "cells": [
  {
   "cell_type": "markdown",
   "metadata": {
    "collapsed": true
   },
   "source": [
    "# Horizontal and vertical derivatives"
   ]
  },
  {
   "cell_type": "markdown",
   "metadata": {},
   "source": [
    "### This notebook ilustrate how to calculate the $n$ order derivatives in the Fourier domain. Here, we calculate $\\partial_x \\, \\mathcal{P}$, $\\partial_y \\, \\mathcal{P}$ and also $\\partial_z \\, \\mathcal{P}$, once $\\, \\mathcal{P}$ is assumed as the transformed potential data, which has wavenumbers $K_x$ and $K_y$ in both horizontal directions and $K_z$ is calculated by $\\sqrt{K_x^2 + K_y^2}$."
   ]
  },
  {
   "cell_type": "markdown",
   "metadata": {},
   "source": [
    "### Let $\\mathcal{F}\\left[\\mathcal{P}(x,y)\\right]$ be the transformed potential data, which can be written as:\n",
    "\n",
    "# $$\\mathcal{F}\\left[\\mathcal{P}(x,y)\\right] = \\int \\mathcal{P}(x,y)\\, e^{-i(K_{x}x \\, + \\, K_ {y}y)}\\, dx\\,dy$$\n",
    "\n",
    "### The horizontal derivatives are calculated in $x$ direction by:\n",
    "# $$\\dfrac{\\partial \\mathcal{P}}{\\partial x} = (i\\, k_x)\\, \\mathcal{F}\\left[\\mathcal{P}(x,y)\\right]$$\n",
    "### and in $y$ direction by\n",
    "# $$\\dfrac{\\partial \\mathcal{P}}{\\partial y} = (i\\, k_y)\\, \\mathcal{F}\\left[\\mathcal{P}(x,y)\\right]$$\n",
    "\n",
    "### The calculated vertical derivative can be done by using:\n",
    "# $$\\dfrac{\\partial \\mathcal{P}}{\\partial z} = \\left(\\sqrt{K_x^2 + K_y^2}\\right)\\, \\mathcal{F}\\left[\\mathcal{P}(x,y)\\right]$$\n",
    "\n",
    "### If we want to calculate the second order derivative in $x$ direction, for example, we multiply the transformed data by $(i\\, k_x)^2$. This process is the same for other second order derivatives ($y$ and $z$ directions) and also for a $n$-order."
   ]
  },
  {
   "cell_type": "code",
   "execution_count": null,
   "metadata": {},
   "outputs": [],
   "source": [
    "# Copying all usefull libraries\n",
    "import sys\n",
    "import numpy as np\n",
    "import matplotlib.pyplot as plt"
   ]
  },
  {
   "cell_type": "code",
   "execution_count": null,
   "metadata": {},
   "outputs": [],
   "source": [
    "sys.path.append('codes/')"
   ]
  },
  {
   "cell_type": "code",
   "execution_count": null,
   "metadata": {},
   "outputs": [],
   "source": [
    "# Importing\n",
    "from codes import auxiliars, statistical, derivative, grids, prism"
   ]
  },
  {
   "cell_type": "markdown",
   "metadata": {},
   "source": [
    "## Synthetic Magnetic data"
   ]
  },
  {
   "cell_type": "code",
   "execution_count": null,
   "metadata": {},
   "outputs": [],
   "source": [
    "# Definition for number of points and grid creation\n",
    "shape = (50, 50)\n",
    "x, y, z = grids.regular_grid((-2000., 2000., -2000., 2000.), shape, -100.)"
   ]
  },
  {
   "cell_type": "code",
   "execution_count": null,
   "metadata": {},
   "outputs": [],
   "source": [
    "#Informations about the rectangular prisms that we will use\n",
    "prisma = [-500., 500., -500., 500., 100., 600.]\n",
    "\n",
    "# Informations about the values for inclination and declination\n",
    "incf, decf = 55., -30."
   ]
  },
  {
   "cell_type": "code",
   "execution_count": null,
   "metadata": {},
   "outputs": [],
   "source": [
    "# Calculate the total field anomaly\n",
    "tf = prism.prism_tf(x, y, z, prisma, 2., incf, decf)"
   ]
  },
  {
   "cell_type": "code",
   "execution_count": null,
   "metadata": {},
   "outputs": [],
   "source": [
    "# Analyzing\n",
    "_ = statistical.analysis(tf, 'nT')"
   ]
  },
  {
   "cell_type": "code",
   "execution_count": null,
   "metadata": {},
   "outputs": [],
   "source": [
    "# Adding noise\n",
    "tfa = auxiliars.noise_normal_dist(tf, 1., 0.25)"
   ]
  },
  {
   "cell_type": "code",
   "execution_count": null,
   "metadata": {},
   "outputs": [],
   "source": [
    "# Plotting the total field anomaly\n",
    "plt.figure(figsize=(14,5))\n",
    "\n",
    "plt.subplot(1,2,1)\n",
    "plt.title('Total field anomaly (in nT)', fontsize = 14)\n",
    "plt.contourf(y.reshape(shape), x.reshape(shape), tf.reshape(shape), 15, cmap = plt.cm.RdBu_r)\n",
    "plt.xlabel('East (m)', fontsize = 14)\n",
    "plt.ylabel('North (m)', fontsize = 14)\n",
    "plt.xticks(np.linspace(x.min(), x.max(), 5),fontsize = 14)\n",
    "plt.yticks(np.linspace(y.min(), y.max(), 5),fontsize = 14)\n",
    "plt.colorbar()\n",
    "\n",
    "plt.subplot(1,2,2)\n",
    "plt.title('Noised total field anomaly (in nT)', fontsize = 14)\n",
    "plt.contourf(y.reshape(shape), x.reshape(shape), tfa.reshape(shape), 15, cmap = plt.cm.RdBu_r)\n",
    "plt.xlabel('East (m)', fontsize = 14)\n",
    "plt.ylabel('North (m)', fontsize = 14)\n",
    "plt.xticks(np.linspace(x.min(), x.max(), 5),fontsize = 14)\n",
    "plt.yticks(np.linspace(y.min(), y.max(), 5),fontsize = 14)\n",
    "plt.colorbar()\n",
    "plt.show()"
   ]
  },
  {
   "cell_type": "code",
   "execution_count": null,
   "metadata": {},
   "outputs": [],
   "source": [
    "# Calculating the first order horizontal derivative in X direction\n",
    "derivx = derivative.xderiv(x.reshape(shape), y.reshape(shape), tfa.reshape(shape))\n",
    "\n",
    "# Calculating the first order horizontal derivative in Y direction\n",
    "derivy = derivative.yderiv(x.reshape(shape), y.reshape(shape), tfa.reshape(shape))\n",
    "\n",
    "# Calculating the first order vertical derivative in Z direction\n",
    "derivz = derivative.zderiv(x.reshape(shape), y.reshape(shape), tfa.reshape(shape))"
   ]
  },
  {
   "cell_type": "code",
   "execution_count": null,
   "metadata": {},
   "outputs": [],
   "source": [
    "X = x.reshape(shape)\n",
    "Y = y.reshape(shape)\n",
    "T = tfa.reshape(shape)"
   ]
  },
  {
   "cell_type": "code",
   "execution_count": null,
   "metadata": {},
   "outputs": [],
   "source": [
    "# Calculating the numerical derivative\n",
    "delta = 10.\n",
    "# In X\n",
    "xi = prism.prism_tf(x - delta, y, z, prisma, 2., incf, decf)\n",
    "xf = prism.prism_tf(x + delta, y, z, prisma, 2., incf, decf)\n",
    "diffx = (xf - xi)/(2.*delta)\n",
    "\n",
    "# In Y\n",
    "yi = prism.prism_tf(x, y - delta, z, prisma, 2., incf, decf)\n",
    "yf = prism.prism_tf(x, y + delta, z, prisma, 2., incf, decf)\n",
    "diffy = (yf - yi)/(2.*delta)\n",
    "\n",
    "# In X\n",
    "zi = prism.prism_tf(x, y, z - 0.1*delta, prisma, 2., incf, decf)\n",
    "zf = prism.prism_tf(x, y, z + 0.1*delta, prisma, 2., incf, decf)\n",
    "diffz = (zf - zi)/(2.*0.1*delta)"
   ]
  },
  {
   "cell_type": "code",
   "execution_count": null,
   "metadata": {},
   "outputs": [],
   "source": [
    "# Plotting the results for x derivative\n",
    "plt.figure(figsize=(14,5))\n",
    "\n",
    "plt.subplot(1, 2, 1)\n",
    "plt.title('$X$ calculated derivative (in nT/meters)', fontsize = 14)\n",
    "plt.contourf(Y, X, derivx, 15, cmap = plt.cm.RdBu_r)\n",
    "plt.xlabel('East (m)', fontsize = 14)\n",
    "plt.ylabel('North (m)', fontsize = 14)\n",
    "plt.xticks(np.linspace(x.min(), x.max(), 5),fontsize = 14)\n",
    "plt.yticks(np.linspace(y.min(), y.max(), 5),fontsize = 14)\n",
    "plt.colorbar()\n",
    "\n",
    "plt.subplot(1, 2, 2)\n",
    "plt.title('$X$ numerical derivative (in nT/meters)', fontsize = 14)\n",
    "plt.contourf(Y, X, diffx.reshape(shape), 15, cmap = plt.cm.RdBu_r)\n",
    "plt.xlabel('East (m)', fontsize = 14)\n",
    "plt.ylabel('North (m)', fontsize = 14)\n",
    "plt.xticks(np.linspace(x.min(), x.max(), 5),fontsize = 14)\n",
    "plt.yticks(np.linspace(y.min(), y.max(), 5),fontsize = 14)\n",
    "plt.colorbar()\n",
    "\n",
    "plt.show()"
   ]
  },
  {
   "cell_type": "code",
   "execution_count": null,
   "metadata": {},
   "outputs": [],
   "source": [
    "# Plotting the results for y derivative\n",
    "plt.figure(figsize=(14,5))\n",
    "\n",
    "plt.subplot(1, 2, 1)\n",
    "plt.title('$Y$ calculated derivative (in nT/meters)', fontsize = 14)\n",
    "plt.contourf(Y, X, derivy, 15, cmap = plt.cm.RdBu_r)\n",
    "plt.xlabel('East (m)', fontsize = 14)\n",
    "plt.ylabel('North (m)', fontsize = 14)\n",
    "plt.xticks(np.linspace(x.min(), x.max(), 5),fontsize = 14)\n",
    "plt.yticks(np.linspace(y.min(), y.max(), 5),fontsize = 14)\n",
    "plt.colorbar()\n",
    "\n",
    "plt.subplot(1, 2, 2)\n",
    "plt.title('$Y$ numerical derivative (in nT/meters)', fontsize = 14)\n",
    "plt.contourf(Y, X, diffy.reshape(shape), 15, cmap = plt.cm.RdBu_r)\n",
    "plt.xlabel('East (m)', fontsize = 14)\n",
    "plt.ylabel('North (m)', fontsize = 14)\n",
    "plt.xticks(np.linspace(x.min(), x.max(), 5),fontsize = 14)\n",
    "plt.yticks(np.linspace(y.min(), y.max(), 5),fontsize = 14)\n",
    "plt.colorbar()\n",
    "plt.show()"
   ]
  },
  {
   "cell_type": "code",
   "execution_count": null,
   "metadata": {},
   "outputs": [],
   "source": [
    "# Plotting the results for y derivative\n",
    "plt.figure(figsize=(14,6))\n",
    "\n",
    "plt.subplot(1, 2, 1)\n",
    "plt.title('$Z$ calculated derivative (in nT/meters)')\n",
    "plt.contourf(Y, X, derivz, 15, cmap = plt.cm.RdBu_r)\n",
    "plt.xlabel('East (m)', fontsize = 14)\n",
    "plt.ylabel('North (m)', fontsize = 14)\n",
    "plt.xticks(np.linspace(x.min(), x.max(), 5),fontsize = 14)\n",
    "plt.yticks(np.linspace(y.min(), y.max(), 5),fontsize = 14)\n",
    "plt.colorbar()\n",
    "\n",
    "plt.subplot(1, 2, 2)\n",
    "plt.title('$Z$ numerical derivative (in nT/meters)')\n",
    "plt.contourf(Y, X, diffz.reshape(shape), 15, cmap = plt.cm.RdBu_r)\n",
    "plt.xlabel('East (m)', fontsize = 14)\n",
    "plt.ylabel('North (m)', fontsize = 14)\n",
    "plt.xticks(np.linspace(x.min(), x.max(), 5),fontsize = 14)\n",
    "plt.yticks(np.linspace(y.min(), y.max(), 5),fontsize = 14)\n",
    "plt.colorbar()\n",
    "\n",
    "plt.show()"
   ]
  },
  {
   "cell_type": "code",
   "execution_count": null,
   "metadata": {},
   "outputs": [],
   "source": [
    "# Plotting the results for y derivative\n",
    "plt.figure(figsize=(20,6))\n",
    "\n",
    "plt.subplot(1, 3, 1)\n",
    "plt.title('Residual for $x$ derivative (in nT/meters)', fontsize = 14)\n",
    "plt.contourf(Y, X, diffx.reshape(shape) - derivx, 15, cmap = plt.cm.RdBu_r)\n",
    "plt.xlabel('East (m)', fontsize = 14)\n",
    "plt.ylabel('North (m)', fontsize = 14)\n",
    "plt.xticks(np.linspace(x.min(), x.max(), 5),fontsize = 14)\n",
    "plt.yticks(np.linspace(y.min(), y.max(), 5),fontsize = 14)\n",
    "plt.colorbar()\n",
    "\n",
    "plt.subplot(1, 3, 2)\n",
    "plt.title('Residual for $y$ derivative (in nT/meters)', fontsize = 14)\n",
    "plt.contourf(Y, X, diffy.reshape(shape) - derivy, 15, cmap = plt.cm.RdBu_r)\n",
    "plt.xlabel('East (m)', fontsize = 14)\n",
    "plt.ylabel('North (m)', fontsize = 14)\n",
    "plt.xticks(np.linspace(x.min(), x.max(), 5),fontsize = 14)\n",
    "plt.yticks(np.linspace(y.min(), y.max(), 5),fontsize = 14)\n",
    "plt.colorbar()\n",
    "\n",
    "plt.subplot(1, 3, 3)\n",
    "plt.title('Residual for $z$ derivative (in nT/meters)', fontsize = 14)\n",
    "plt.contourf(Y, X, diffz.reshape(shape) - derivz, 15, cmap = plt.cm.RdBu_r)\n",
    "plt.xlabel('East (m)', fontsize = 14)\n",
    "plt.ylabel('North (m)', fontsize = 14)\n",
    "plt.xticks(np.linspace(x.min(), x.max(), 5),fontsize = 14)\n",
    "plt.yticks(np.linspace(y.min(), y.max(), 5),fontsize = 14)\n",
    "plt.colorbar()\n",
    "plt.show()"
   ]
  },
  {
   "cell_type": "code",
   "execution_count": null,
   "metadata": {},
   "outputs": [],
   "source": [
    "# Testing for horizontal gradient\n",
    "hg_calc = np.sqrt(diffx**2 + diffy**2)\n",
    "hg_four = np.sqrt(derivx**2 + derivy**2)"
   ]
  },
  {
   "cell_type": "code",
   "execution_count": null,
   "metadata": {},
   "outputs": [],
   "source": [
    "# Plotting the results for horizontal gradient\n",
    "plt.figure(figsize=(14,5))\n",
    "\n",
    "plt.subplot(1, 2, 1)\n",
    "plt.title('HG calculated (in nT/meters)', fontsize = 14)\n",
    "plt.contourf(Y, X, hg_calc.reshape(shape), 15, cmap = plt.cm.jet)\n",
    "plt.xlabel('East (m)', fontsize = 14)\n",
    "plt.ylabel('North (m)', fontsize = 14)\n",
    "plt.xticks(np.linspace(x.min(), x.max(), 5),fontsize = 14)\n",
    "plt.yticks(np.linspace(y.min(), y.max(), 5),fontsize = 14)\n",
    "plt.colorbar()\n",
    "\n",
    "plt.subplot(1, 2, 2)\n",
    "plt.title('HG by Fourier domain (in nT/meters)', fontsize = 14)\n",
    "plt.contourf(Y, X, hg_four, 15, cmap = plt.cm.jet)\n",
    "plt.xlabel('East (m)', fontsize = 14)\n",
    "plt.ylabel('North (m)', fontsize = 14)\n",
    "plt.xticks(np.linspace(x.min(), x.max(), 5),fontsize = 14)\n",
    "plt.yticks(np.linspace(y.min(), y.max(), 5),fontsize = 14)\n",
    "plt.colorbar()\n",
    "\n",
    "#plt.savefig('figures/deriv06-horizontal-grad.png', facecolor='w', edgecolor='w', bbox_inches='tight')\n",
    "plt.show()"
   ]
  },
  {
   "cell_type": "code",
   "execution_count": null,
   "metadata": {},
   "outputs": [],
   "source": [
    "# Testing for total gradient\n",
    "tg_calc = np.sqrt(diffx**2 + diffy**2 + diffz**2)\n",
    "tg_four = np.sqrt(derivx**2 + derivy**2 + derivz**2)"
   ]
  },
  {
   "cell_type": "code",
   "execution_count": null,
   "metadata": {},
   "outputs": [],
   "source": [
    "# Plotting the results for total gradient\n",
    "plt.figure(figsize=(14, 5))\n",
    "\n",
    "plt.subplot(1, 2, 1)\n",
    "plt.title('TG calculated (in nT/meters)', fontsize = 14)\n",
    "plt.contourf(Y, X, tg_calc.reshape(shape), 15, cmap = plt.cm.jet)\n",
    "plt.xlabel('East (m)', fontsize = 14)\n",
    "plt.ylabel('North (m)', fontsize = 14)\n",
    "plt.xticks(np.linspace(x.min(), x.max(), 5),fontsize = 14)\n",
    "plt.yticks(np.linspace(y.min(), y.max(), 5),fontsize = 14)\n",
    "plt.colorbar()\n",
    "\n",
    "plt.subplot(1, 2, 2)\n",
    "plt.title('TG by Fourier domain (in nT/meters)', fontsize = 14)\n",
    "plt.contourf(Y, X, tg_four, 15, cmap = plt.cm.jet)\n",
    "plt.xlabel('East (m)', fontsize = 14)\n",
    "plt.ylabel('North (m)', fontsize = 14)\n",
    "plt.xticks(np.linspace(x.min(), x.max(), 5),fontsize = 14)\n",
    "plt.yticks(np.linspace(y.min(), y.max(), 5),fontsize = 14)\n",
    "plt.colorbar()\n",
    "\n",
    "#plt.savefig('figures/deriv07-total-grad.png', facecolor='w', edgecolor='w', bbox_inches='tight')\n",
    "plt.show()"
   ]
  },
  {
   "cell_type": "code",
   "execution_count": null,
   "metadata": {},
   "outputs": [],
   "source": [
    "# Plotting the errors\n",
    "plt.figure(figsize=(14, 5))\n",
    "\n",
    "plt.subplot(1, 2, 1)\n",
    "plt.title('Residual for HG (in nT/meters)', fontsize = 14)\n",
    "plt.contourf(Y, X, (hg_calc.reshape(shape)-hg_four.reshape(shape)), 15, cmap = plt.cm.jet)\n",
    "plt.xlabel('East (m)', fontsize = 14)\n",
    "plt.ylabel('North (m)', fontsize = 14)\n",
    "plt.xticks(np.linspace(x.min(), x.max(), 5),fontsize = 14)\n",
    "plt.yticks(np.linspace(y.min(), y.max(), 5),fontsize = 14)\n",
    "plt.colorbar()\n",
    "\n",
    "plt.subplot(1, 2, 2)\n",
    "plt.title('Residual for TG (in nT/meters)', fontsize = 14)\n",
    "plt.contourf(Y, X, ( tg_calc.reshape(shape) - tg_four.reshape(shape) ), 15, cmap = plt.cm.jet)\n",
    "plt.xlabel('East (m)', fontsize = 14)\n",
    "plt.ylabel('North (m)', fontsize = 14)\n",
    "plt.xticks(np.linspace(x.min(), x.max(), 5),fontsize = 14)\n",
    "plt.yticks(np.linspace(y.min(), y.max(), 5),fontsize = 14)\n",
    "plt.colorbar()\n",
    "\n",
    "#plt.savefig('figures/deriv08-residual.png', facecolor='w', edgecolor='w', bbox_inches='tight')\n",
    "plt.show()"
   ]
  },
  {
   "cell_type": "code",
   "execution_count": null,
   "metadata": {},
   "outputs": [],
   "source": []
  }
 ],
 "metadata": {
  "kernelspec": {
   "display_name": "Python 3",
   "language": "python",
   "name": "python3"
  },
  "language_info": {
   "codemirror_mode": {
    "name": "ipython",
    "version": 3
   },
   "file_extension": ".py",
   "mimetype": "text/x-python",
   "name": "python",
   "nbconvert_exporter": "python",
   "pygments_lexer": "ipython3",
   "version": "3.7.1"
  }
 },
 "nbformat": 4,
 "nbformat_minor": 2
}
