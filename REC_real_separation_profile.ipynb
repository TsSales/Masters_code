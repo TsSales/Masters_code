{
 "cells": [
  {
   "cell_type": "markdown",
   "metadata": {},
   "source": [
    "### <center size=2> Real data example : Reconcavo Basin, Brazil <center> \n",
    "    "
   ]
  },
  {
   "cell_type": "markdown",
   "metadata": {},
   "source": [
    "--------------------------------------------------------------------------------------------------------------------"
   ]
  },
  {
   "cell_type": "code",
   "execution_count": null,
   "metadata": {
    "scrolled": true
   },
   "outputs": [],
   "source": [
    "#----------------------------- ALL INTERNAL PACKAGES --------------------------- #\n",
    "import numpy as np\n",
    "import ipywidgets as widgets\n",
    "import scipy as sp\n",
    "import pandas as pd\n",
    "import pylab as py\n",
    "import matplotlib.pyplot as plt\n",
    "from matplotlib.ticker import LinearLocator, FormatStrFormatter\n",
    "from IPython.display import Latex\n",
    "#from mpl_toolkits.basemap import Basemap\n",
    "from matplotlib.patches import Polygon\n",
    "from scipy.interpolate import griddata\n",
    "from mpl_toolkits.mplot3d import axes3d\n",
    "#import pyproj\n",
    "import utm"
   ]
  },
  {
   "cell_type": "markdown",
   "metadata": {},
   "source": [
    "# <center> Etapa 01: Leitura dos dados de gravidade <center>"
   ]
  },
  {
   "cell_type": "code",
   "execution_count": null,
   "metadata": {},
   "outputs": [],
   "source": [
    "# ------------- Use pandas to read the real data -----------------:\n",
    "# dados parcialmente interpolados na regiao do rifte abortado (RECOMENDACAO: LER LAT, LON): \n",
    "nome=['Lat','Lon', 'UTMe', 'UTMn', 'Boug', 'Elev']\n",
    "data = pd.read_csv('GRAV_DEXBADEXES_med_proc.asc', sep=',', header=20, usecols=(2,3,4,5,7,12), names=nome, na_values= 9999.99 )\n",
    "\n",
    "#name=['Lon','Lat', 'Boug']\n",
    "#bndg= pd.read_csv('dados_bndg.asc', sep=',', header=17, usecols=(0,1,13), names=name, na_values= '*' )\n",
    "#bndg"
   ]
  },
  {
   "cell_type": "code",
   "execution_count": null,
   "metadata": {},
   "outputs": [],
   "source": [
    "# ------------- Use pandas to read the real data -----------------:\n",
    "# dados parcialmente interpolados na regiao do rifte abortado (RECOMENDACAO: LER LAT, LON): \n",
    "nome=['UTMe', 'UTMn', 'Line', 'DZ',]\n",
    "data = pd.read_csv('BOUG_RESIDUAL_Cont4000.xyz', sep='\\s+', header=0, names=nome, na_values= 9999.99 )\n",
    "\n",
    "#name=['Lon','Lat', 'Boug']\n",
    "#bndg= pd.read_csv('dados_bndg.asc', sep=',', header=17, usecols=(0,1,13), names=name, na_values= '*' )\n",
    "data"
   ]
  },
  {
   "cell_type": "markdown",
   "metadata": {},
   "source": [
    "## 1.1: Leitura dos dados do ICGEM para a anomalia bouguer regional"
   ]
  },
  {
   "cell_type": "code",
   "execution_count": null,
   "metadata": {
    "scrolled": true
   },
   "outputs": [],
   "source": [
    "# dados parcialmente interpolados na regiao do rifte abortado (RECOMENDACAO: LER LAT, LON): \n",
    "nome=['Lon','Lat', 'Reg_Boug']\n",
    "regional = pd.read_csv('Regional.dat', header=37, sep='\\s+', usecols=(1,2,4), names=nome )"
   ]
  },
  {
   "cell_type": "code",
   "execution_count": null,
   "metadata": {},
   "outputs": [],
   "source": [
    "regional"
   ]
  },
  {
   "cell_type": "markdown",
   "metadata": {},
   "source": [
    "# <center> Etapa 02: Leitura das coordenadas dos dados de poço <center>"
   ]
  },
  {
   "cell_type": "code",
   "execution_count": null,
   "metadata": {},
   "outputs": [],
   "source": [
    "# Leitura das coordenadas utm dos poços da bacia do reconcavo:\n",
    "# dados parcialmente interpolados na regiao do rifte abortado (RECOMENDACAO: LER LAT, LON): \n",
    "label=['ID','Nome', 'UTMn', 'UTMe']\n",
    "poco = pd.read_csv('INFO_POCOS2.txt', sep='\\s+', header=0, usecols=(0,1,2,3), names=label, na_values=999.999 ) # 999.999 = dummy"
   ]
  },
  {
   "cell_type": "code",
   "execution_count": null,
   "metadata": {},
   "outputs": [],
   "source": [
    "# lat lon dos poços computados pela funcao utm:\n",
    "npo = len(poco)\n",
    "print ('numero de pocos=', npo)\n",
    "lon_poc = np.zeros(npo)\n",
    "lat_poc = np.zeros(npo)\n",
    "\n",
    "for i in range(npo):\n",
    "    lat_poc[i], lon_poc[i] = utm.to_latlon(poco['UTMe'][i], poco['UTMn'][i],zone_number=24, zone_letter='K' )\n",
    "\n",
    "# adicionando as colunas 'Lat' e 'Lon' no dataframe poco:\n",
    "poco['Lon'] = lon_poc\n",
    "poco['Lat'] = lat_poc    \n"
   ]
  },
  {
   "cell_type": "markdown",
   "metadata": {},
   "source": [
    "# <center> Etapa 03: Leitura das coordenadas das linhas sismicas <center>"
   ]
  },
  {
   "cell_type": "code",
   "execution_count": null,
   "metadata": {},
   "outputs": [],
   "source": [
    "# Leitura das coordenadas utm de algumas linhas sismicas da bacia do reconcavo:\n",
    "#line = ['linha', 'w0', 's0', 'wf', 'sf']\n",
    "#sis = pd.read_csv('loc_sismica.txt', sep='\\s+', header=0 ) # 999.999 = dummy\n",
    "sis = pd.read_csv('NOVO_INFO_SISMICA.csv', sep=',', header=0 ) # 999.999 = dummy"
   ]
  },
  {
   "cell_type": "code",
   "execution_count": null,
   "metadata": {},
   "outputs": [],
   "source": [
    "# conversao para grau decimal (dados em grau,minuto,segundo):\n",
    "lon0 = -(sis['wg0'] + sis['wm0']/60.0 + sis['ws0']/3600.0)\n",
    "lat0 = -(sis['sg0'] + sis['sm0']/60.0 + sis['ss0']/3600.0)\n",
    "\n",
    "lonf = -(sis['wgf'] + sis['wmf']/60.0 + sis['wsf']/3600.0)\n",
    "latf = -(sis['sgf'] + sis['smf']/60.0 + sis['ssf']/3600.0)\n",
    "lat0\n",
    "sis"
   ]
  },
  {
   "cell_type": "code",
   "execution_count": null,
   "metadata": {},
   "outputs": [],
   "source": [
    "# plot das linhas sismicas lidas do arquivo:\n",
    "nlines = len(lat0)\n",
    "ys=np.zeros(3)\n",
    "xs=np.zeros (3)\n",
    "for i in range(0, nlines, 1):\n",
    "    ys = [ lat0[i], latf[i] ]\n",
    "    xs = [ lon0[i], lonf[i] ]\n",
    "    plt.plot(xs, ys,'.-')\n",
    "plt.show()\n",
    "np.array(xs)\n",
    "np.array(ys)\n",
    "xs"
   ]
  },
  {
   "cell_type": "markdown",
   "metadata": {},
   "source": [
    "# <center> Etapa 04: Visualização dos dados : <center>"
   ]
  },
  {
   "cell_type": "code",
   "execution_count": null,
   "metadata": {},
   "outputs": [],
   "source": [
    "# ------------ plot the flight lines to check for the interpolation:--------#\n",
    "# ------------ set figure size: ------------------------------------------#\n",
    "plt.close('all')\n",
    "fig = plt.figure(figsize=(20,12), facecolor='w')\n",
    "plt.subplot(121)\n",
    "#plt.title('Dado de Gravidade - Bacia do Reconcavo',fontsize=15)\n",
    "plt.xlabel('Longitude($^o$)', fontsize = 15)\n",
    "plt.ylabel('Latitude($^o$)', fontsize = 15)\n",
    "p1 = plt.scatter(data['Lon'], data['Lat'], s=1.0, c=data['Boug'], marker='.', cmap=plt.cm.jet)\n",
    "cbar = plt.colorbar(p1, aspect=30, fraction = 0.03, orientation=\"horizontal\")\n",
    "cbar.set_label('Anomalia Bouguer Total $ (mGal) $',fontsize=15, rotation = 0)\n",
    "plt.grid()\n",
    "#plt.savefig('figs finais/Python/anomalia_total.png', dpi=300, transparent=True, bbox_inches=\"tight\" )\n",
    "\n",
    "#################################################################################\n",
    "plt.subplot(122)\n",
    "#plt.title('Dado de Gravidade - Bacia do Reconcavo',fontsize=15)\n",
    "plt.xlabel('Longitude($^o$)', fontsize = 15)\n",
    "plt.ylabel('Latitude($^o$)', fontsize = 15)\n",
    "p2 = plt.scatter(regional['Lon'], regional['Lat'], s=1.0, c=regional['Reg_Boug'], marker='.', cmap=plt.cm.jet)\n",
    "cbar = plt.colorbar(p2, aspect=30, fraction = 0.03, orientation=\"horizontal\")\n",
    "cbar.set_label('Anomalia Bouguer bndg $ (mGal) $',fontsize=15, rotation = 0)\n",
    "plt.grid()\n",
    "#plt.savefig('figs finais/Python/anomalia_total.png', dpi=300, transparent=True, bbox_inches=\"tight\" )\n",
    "\n",
    "plt.grid()\n",
    "#plt.savefig('Separacao.png', dpi=300, transparent=True, bbox_inches=\"tight\" )\n",
    "\n",
    "\n",
    "plt.show()"
   ]
  },
  {
   "cell_type": "markdown",
   "metadata": {},
   "source": [
    "#  <center size=3> Etapa 06: Remoção do Regional da Anomalia Bouguer: <center>"
   ]
  },
  {
   "cell_type": "markdown",
   "metadata": {},
   "source": [
    "## 6.1: via ajuste polinomial"
   ]
  },
  {
   "cell_type": "code",
   "execution_count": null,
   "metadata": {},
   "outputs": [],
   "source": [
    "# create a polinomial data:\n",
    "xp   = data['Lon']\n",
    "yp   = data['Lat']\n",
    "bou  = data['Boug']\n",
    "ndat = len(xp)\n",
    "one  = np.ones(ndat)"
   ]
  },
  {
   "cell_type": "code",
   "execution_count": null,
   "metadata": {},
   "outputs": [],
   "source": [
    "# utilizando um polinomio de grau 6:\n",
    "S = np.array( [ one, xp, yp, xp**2, yp**2, xp**3, yp**3, xp**4, yp**4, xp**5, yp**5, xp**6, yp**6])\n",
    "#print (type(S))\n",
    "# transposta para arrumar a matrix corretamente:\n",
    "A = S.T"
   ]
  },
  {
   "cell_type": "code",
   "execution_count": null,
   "metadata": {},
   "outputs": [],
   "source": [
    "# estimativa de minimos quadrados para obter os coeficientes do polinomio:\n",
    "p = np.linalg.solve(np.dot(A.T,A) , np.dot(A.T,bou) )\n",
    "print (p)"
   ]
  },
  {
   "cell_type": "code",
   "execution_count": null,
   "metadata": {},
   "outputs": [],
   "source": [
    "# calculo dos dados preditos pelo modelo polinomial:\n",
    "bou_pred = np.dot(A,p)"
   ]
  },
  {
   "cell_type": "code",
   "execution_count": null,
   "metadata": {},
   "outputs": [],
   "source": [
    "# calculo da anomalia bouguer residual via modelo polinomial:\n",
    "residual = bou - bou_pred\n",
    "# incorporar ao dataframe:\n",
    "data['Boug_residual'] = residual\n",
    "data['Boug_regional'] = bou_pred"
   ]
  },
  {
   "cell_type": "code",
   "execution_count": null,
   "metadata": {},
   "outputs": [],
   "source": [
    "data"
   ]
  },
  {
   "cell_type": "markdown",
   "metadata": {},
   "source": [
    "##  6.2:  via ICGEM (dados de satélite)"
   ]
  },
  {
   "cell_type": "code",
   "execution_count": null,
   "metadata": {},
   "outputs": [],
   "source": [
    "Bou_res = data.Boug - regional.Reg_Boug\n",
    "data['Boug_res'] = np.array(Bou_res)"
   ]
  },
  {
   "cell_type": "code",
   "execution_count": null,
   "metadata": {},
   "outputs": [],
   "source": [
    "data"
   ]
  },
  {
   "cell_type": "markdown",
   "metadata": {},
   "source": [
    "##  6.3:  via polinomial robusto "
   ]
  },
  {
   "cell_type": "code",
   "execution_count": null,
   "metadata": {},
   "outputs": [],
   "source": [
    "# Uso do polinomio simples como entrada\n",
    "p2 = p.copy()\n",
    "bou_pred2 = bou_pred.copy()"
   ]
  },
  {
   "cell_type": "code",
   "execution_count": null,
   "metadata": {},
   "outputs": [],
   "source": [
    "# Quantidade de iteracoes\n",
    "iteracoes = 30"
   ]
  },
  {
   "cell_type": "code",
   "execution_count": null,
   "metadata": {},
   "outputs": [],
   "source": [
    "# Calculo do polinomio robusto\n",
    "for i in range(iteracoes):\n",
    "    r = bou - bou_pred2\n",
    "    #s = np.median(r)\n",
    "    #W = np.diag(1./np.abs(r + 1.e-10))\n",
    "    #W = np.dot(A.T,W)\n",
    "    #p2 = np.linalg.solve(np.dot(W,A), np.dot(W,bou))\n",
    "    p2=np.linalg.solve(np.dot(A.T,A),np.dot(A.T,r))\n",
    "    bou_pred2 = np.dot(A, p2)"
   ]
  },
  {
   "cell_type": "code",
   "execution_count": null,
   "metadata": {},
   "outputs": [],
   "source": [
    "residual2= bou - bou_pred2\n",
    "data['Boug_residual_robusto'] = residual2"
   ]
  },
  {
   "cell_type": "code",
   "execution_count": null,
   "metadata": {},
   "outputs": [],
   "source": [
    "data"
   ]
  },
  {
   "cell_type": "markdown",
   "metadata": {},
   "source": [
    "## <center size=3> Etapa 06: Visualização da anomalia Bouguer regional e residual: <center>"
   ]
  },
  {
   "cell_type": "markdown",
   "metadata": {},
   "source": [
    "## 6.1: Via ajuste polinomial"
   ]
  },
  {
   "cell_type": "code",
   "execution_count": null,
   "metadata": {
    "scrolled": true
   },
   "outputs": [],
   "source": [
    "# Plot residual bouguer anomaly:\n",
    "plt.close('all')\n",
    "\n",
    "plt.figure(figsize=(3.5,12), facecolor='w')\n",
    "\n",
    "#plt.title(' Anomalia Bouguer Regional ',fontsize=15)\n",
    "plt.xlabel('Longitude($^o$)', fontsize = 15)\n",
    "plt.ylabel('Latitude ($^o$)', fontsize = 15)\n",
    "p1 = plt.scatter(data['Lon'], data['Lat'], s=60.0, c=data['Boug_regional'], marker='.', cmap=plt.cm.jet)\n",
    "cbar =plt.colorbar(p1, aspect=30, fraction = 0.03, orientation=\"horizontal\")\n",
    "cbar.set_label('$ (mGal) $',fontsize=15, rotation = 0)\n",
    "plt.grid()\n",
    "#plt.savefig('figs finais/Python/anom_regional2.png', dpi=300, transparent=True, bbox_inches=\"tight\" )\n",
    "\n",
    "plt.show()\n",
    "###########################################################################################################################\n"
   ]
  },
  {
   "cell_type": "code",
   "execution_count": null,
   "metadata": {},
   "outputs": [],
   "source": [
    "#plt.title(' Anomalia Bouguer Residual',fontsize=15)\n",
    "plt.figure(figsize= (3.5,12), facecolor='w')\n",
    "plt.xlabel('Longitude ($^o$)', fontsize = 15)\n",
    "p2 = plt.scatter(data['Lon'], data['Lat'], s=60.0, c=data['Boug_residual'], marker='.', cmap=plt.cm.jet, )\n",
    "cbar = plt.colorbar(p2, aspect=30, fraction = 0.03, orientation=\"horizontal\")\n",
    "cbar.set_label('$ (mGal) $',fontsize=15,rotation = 0)\n",
    "plt.grid()\n",
    "#plt.savefig('figs finais/Python/anom_residual2.png', dpi=300, transparent=True, bbox_inches=\"tight\" )\n",
    "\n",
    "plt.show()"
   ]
  },
  {
   "cell_type": "markdown",
   "metadata": {},
   "source": [
    "## 6.2: Via ajuste polinomial robusto"
   ]
  },
  {
   "cell_type": "code",
   "execution_count": null,
   "metadata": {},
   "outputs": [],
   "source": [
    "# Plot residual bouguer anomaly:\n",
    "plt.close('all')\n",
    "\n",
    "plt.figure(figsize=(3.5,12), facecolor='w')\n",
    "\n",
    "#plt.title(' Anomalia Bouguer Regional ',fontsize=15)\n",
    "plt.xlabel('Longitude($^o$)', fontsize = 15)\n",
    "plt.ylabel('Latitude ($^o$)', fontsize = 15)\n",
    "p1 = plt.scatter(data['Lon'], data['Lat'], s=60.0, c=residual2, marker='.', cmap=plt.cm.jet)\n",
    "cbar =plt.colorbar(p1, aspect=30, fraction = 0.03, orientation=\"horizontal\")\n",
    "cbar.set_label('$ (mGal) $',fontsize=15, rotation = 0)\n",
    "plt.grid()\n",
    "#plt.savefig('figs finais/Python/anom_residual_robusto6.png', dpi=300, transparent=True, bbox_inches=\"tight\" )\n",
    "\n",
    "plt.show()\n",
    "###########################################################################################################################"
   ]
  },
  {
   "cell_type": "markdown",
   "metadata": {},
   "source": [
    "## Delimitação da área à Bacia do Recôncavo"
   ]
  },
  {
   "cell_type": "code",
   "execution_count": null,
   "metadata": {},
   "outputs": [],
   "source": [
    "# Dado grav:\n",
    "# longitude filter:\n",
    "reconcavo = data.loc[ (data['Lon']<= -38.00) & (data['Lon']>= -39.0) ] # should have the whitespace \" LONG\" !\n",
    "# latitude filter:\n",
    "rec = reconcavo.loc[ (reconcavo['Lat']<= -12.0) & (reconcavo['Lat']>= -13.00) ]\n",
    "# check if is right:\n",
    "rec.max(), rec.min()"
   ]
  },
  {
   "cell_type": "markdown",
   "metadata": {},
   "source": [
    "## Comparação dos dados BDEP cm dados BNDG"
   ]
  },
  {
   "cell_type": "code",
   "execution_count": null,
   "metadata": {},
   "outputs": [],
   "source": [
    "# ------------ plot the flight lines to check for the interpolation:--------#\n",
    "# ------------ set figure size: ------------------------------------------#\n",
    "plt.close('all')\n",
    "fig = plt.figure(figsize=(20,12), facecolor='w')\n",
    "plt.subplot(121)\n",
    "#plt.title('Dado de Gravidade - Bacia do Reconcavo',fontsize=15)\n",
    "plt.xlabel('Longitude($^o$)', fontsize = 15)\n",
    "plt.ylabel('Latitude($^o$)', fontsize = 15)\n",
    "p1 = plt.scatter(rec['Lon'], rec['Lat'], s=1.0, c=rec['Boug'], marker='.', cmap=plt.cm.jet)\n",
    "cbar = plt.colorbar(p1, aspect=30, fraction = 0.03, orientation=\"horizontal\")\n",
    "cbar.set_label('Anomalia Bouguer Total $ (mGal) $',fontsize=15, rotation = 0)\n",
    "plt.grid()\n",
    "#plt.savefig('figs finais/Python/anomalia_total.png', dpi=300, transparent=True, bbox_inches=\"tight\" )\n",
    "\n",
    "#################################################################################\n",
    "plt.subplot(122)\n",
    "#plt.title('Dado de Gravidade - Bacia do Reconcavo',fontsize=15)\n",
    "plt.xlabel('Longitude($^o$)', fontsize = 15)\n",
    "plt.ylabel('Latitude($^o$)', fontsize = 15)\n",
    "p2 = plt.scatter(bndg['Lon'], bndg['Lat'], s=10.0, c=bndg['Boug'], marker='.', cmap=plt.cm.jet)\n",
    "cbar = plt.colorbar(p2, aspect=30, fraction = 0.03, orientation=\"horizontal\")\n",
    "cbar.set_label('Anomalia Bouguer BNDG $ (mGal) $',fontsize=15, rotation = 0)\n",
    "plt.grid()\n",
    "#plt.savefig('figs finais/Python/anomalia_total.png', dpi=300, transparent=True, bbox_inches=\"tight\" )\n",
    "#plt.savefig('Separacao.png', dpi=300, transparent=True, bbox_inches=\"tight\" )\n",
    "\n",
    "\n",
    "plt.show()"
   ]
  },
  {
   "cell_type": "code",
   "execution_count": null,
   "metadata": {},
   "outputs": [],
   "source": [
    "# ------------------------- Define the center of the map -----------------------------------#  \n",
    "lo0 = 0.5*( rec['Lon'].max() + rec['Lon'].min() )\n",
    "la0 = 0.5*( rec['Lat'].max() + rec['Lat'].max() )\n",
    "\n",
    "# ------- use basemap function to create the plot : ---------# \n",
    "m = Basemap(llcrnrlon=-39.0, llcrnrlat=-13.0,\n",
    "            urcrnrlon=-38.0, urcrnrlat=-12.0, \n",
    "            resolution='l',projection='tmerc', \n",
    "            lon_0=lo0, lat_0=la0,epsg=29100)"
   ]
  },
  {
   "cell_type": "code",
   "execution_count": null,
   "metadata": {},
   "outputs": [],
   "source": [
    "lons, lats = m( np.array( rec['Lon'] ), np.array( rec['Lat']) )"
   ]
  },
  {
   "cell_type": "code",
   "execution_count": null,
   "metadata": {},
   "outputs": [],
   "source": [
    "# ------------ set figure size: ------------------------------------------#\n",
    "%matplotlib inline\n",
    "plt.close('all')\n",
    "fig = plt.figure(figsize=(15,15), facecolor='w')\n",
    "\n",
    "#----------Drawing Lat Long: -------------#\n",
    "m.drawmeridians( range( 0,360,1), labels=[0, 1, 0, 1], latmax=rec['Lat'].min() )\n",
    "m.drawparallels( range(-90,90,1), labels=[1, 0, 1, 0], latmax=rec['Lat'].max() )\n",
    "m.drawmapscale(-38.1, -12.85, 3, 3, 10.0, units='km', barstyle='simple', fontcolor='k')\n",
    "\n",
    "#------------------Loading Shapefiles---------------#\n",
    "#m.readshapefile('brazil_shapefile/BRA_adm0', 'Brasil', drawbounds=True, linewidth=1)\n",
    "#m.readshapefile('Real/shapes/MatoGrossodoSul', 'MatoGrossodoSul', drawbounds=True, linewidth=1)\n",
    "#m.readshapefile('Real/shapes/Parana', 'Parana', drawbounds=True, linewidth=1)\n",
    "#m.readshapefile('shapeFiles/bacias/Limite_das_Bacias_Sedimentares', 'Limite_das_Bacias_Sedimentares', \n",
    "            #    drawbounds=True, linewidth=1)\n",
    "#m.readshapefile('shapeFiles/CAMPOS_PRODUCAO_191118', 'CAMPOS_PRODUCAO_191118', drawbounds=True, linewidth=0.5)\n",
    "\n",
    "\n",
    "#--------------Background satellite image options-----------#\n",
    "\n",
    "#m.shadedrelief(scale=1)\n",
    "#m.etopo(scale=2)\n",
    "#m.bluemarble(scale=0.5)\n",
    "#m.arcgisimage(service='ESRI_Imagery_World_2D', xpixels=1000, ypixels=1000, verbose=True)\n",
    "m.arcgisimage(service='World_Shaded_Relief', xpixels=1000, ypixels=1000, verbose= True)\n",
    "\n",
    "\n",
    "#------------------Mapa da Anomalia------------------#\n",
    "k = m.scatter(lons, lats, s=5.0, c=rec['Boug_residual'], marker='o', cmap=plt.cm.jet, latlon=False)\n",
    "#----- colorbar specifications -----:\n",
    "cbar = m.colorbar(k, location='right', size=\"5%\", pad=\"5%\")\n",
    "cbar.set_label('Anomalia Bouguer Residual $ (mGal) $',fontsize=13, rotation=90)\n",
    "#plt.savefig('figs finais/Python/mapa_bacia_residual.png', dpi=300, transparent=True, bbox_inches=\"tight\" )\n"
   ]
  },
  {
   "cell_type": "markdown",
   "metadata": {},
   "source": [
    "## 6.2: via ICGEM"
   ]
  },
  {
   "cell_type": "code",
   "execution_count": null,
   "metadata": {},
   "outputs": [],
   "source": [
    "# Dado grav:\n",
    "# longitude filter:\n",
    "reconcavo = data.loc[ (data['Lon']<= -38.00) & (data['Lon']>= -39.0) ] # should have the whitespace \" LONG\" !\n",
    "# latitude filter:\n",
    "rec = reconcavo.loc[ (reconcavo['Lat']<= -12.0) & (reconcavo['Lat']>= -13.00) ]\n",
    "# check if is right:\n",
    "rec.max(), rec.min()"
   ]
  },
  {
   "cell_type": "code",
   "execution_count": null,
   "metadata": {},
   "outputs": [],
   "source": [
    "# ------------------------- Define the center of the map -----------------------------------#  \n",
    "lo0 = 0.5*( rec['Lon'].max() + rec['Lon'].min() )\n",
    "la0 = 0.5*( rec['Lat'].max() + rec['Lat'].max() )\n",
    "\n",
    "# ------- use basemap function to create the plot : ---------# \n",
    "m = Basemap(llcrnrlon=-39.0, llcrnrlat=-13.0,\n",
    "            urcrnrlon=-38.0, urcrnrlat=-12.0, \n",
    "            resolution='l',projection='tmerc', \n",
    "            lon_0=lo0, lat_0=la0,epsg=29100)"
   ]
  },
  {
   "cell_type": "code",
   "execution_count": null,
   "metadata": {},
   "outputs": [],
   "source": [
    "# referenciando as coordenadas grav, sismica e poco ao mapa:\n",
    "lons, lats = m( np.array( rec['Lon'] ), np.array( rec['Lat']) )"
   ]
  },
  {
   "cell_type": "code",
   "execution_count": null,
   "metadata": {},
   "outputs": [],
   "source": [
    "# ------------ set figure size: ------------------------------------------#\n",
    "%matplotlib inline\n",
    "plt.close('all')\n",
    "fig = plt.figure(figsize=(15,15), facecolor='w')\n",
    "\n",
    "#----------Drawing Lat Long: -------------#\n",
    "m.drawmeridians( range( 0,360,1), labels=[0, 1, 0, 1], latmax=rec['Lat'].min() )\n",
    "m.drawparallels( range(-90,90,1), labels=[1, 0, 1, 0], latmax=rec['Lat'].max() )\n",
    "m.drawmapscale(-38.1, -12.85, 3, 3, 10.0, units='km', barstyle='simple', fontcolor='k')\n",
    "\n",
    "#------------------Loading Shapefiles---------------#\n",
    "#m.readshapefile('brazil_shapefile/BRA_adm0', 'Brasil', drawbounds=True, linewidth=1)\n",
    "#m.readshapefile('Real/shapes/MatoGrossodoSul', 'MatoGrossodoSul', drawbounds=True, linewidth=1)\n",
    "#m.readshapefile('Real/shapes/Parana', 'Parana', drawbounds=True, linewidth=1)\n",
    "#m.readshapefile('shapeFiles/bacias/Limite_das_Bacias_Sedimentares', 'Limite_das_Bacias_Sedimentares', \n",
    "              #  drawbounds=True, linewidth=1)\n",
    "#m.readshapefile('shapeFiles/CAMPOS_PRODUCAO_191118', 'CAMPOS_PRODUCAO_191118', drawbounds=True, linewidth=0.5)\n",
    "\n",
    "\n",
    "#--------------Background satellite image options-----------#\n",
    "\n",
    "#m.shadedrelief(scale=1)\n",
    "#m.etopo(scale=2)\n",
    "#m.bluemarble(scale=0.5)\n",
    "#m.arcgisimage(service='ESRI_Imagery_World_2D', xpixels=1000, ypixels=1000, verbose=True)\n",
    "m.arcgisimage(service='World_Shaded_Relief', xpixels=1000, ypixels=1000, verbose= True)\n",
    "\n",
    "\n",
    "\n",
    "#------------------Mapa da Anomalia------------------#\n",
    "k = m.scatter(lons, lats, s=5.0, c=rec['Boug_res'], marker='o', cmap=plt.cm.jet, latlon=False)\n",
    "#----- colorbar specifications -----:\n",
    "cbar = m.colorbar(k, location='right', size=\"2%\", pad=\"2%\")\n",
    "cbar.set_label('Anomalia Bouguer Total $ (mGal) $',fontsize=20, rotation=90)\n",
    "#plt.savefig('figs finais/Python/mapa_bacia.png', dpi=300, transparent=True, bbox_inches=\"tight\" )"
   ]
  },
  {
   "cell_type": "markdown",
   "metadata": {},
   "source": [
    "#  <center> Etapa 07: Delimitação da área de estudo ao compartimento sul:"
   ]
  },
  {
   "cell_type": "code",
   "execution_count": null,
   "metadata": {},
   "outputs": [],
   "source": [
    "# Dado grav:\n",
    "# longitude filter:\n",
    "target = data.loc[ (data['Lon']<= -38.00) & (data['Lon']>= -39.2) ] # should have the whitespace \" LONG\" !\n",
    "# latitude filter:\n",
    "target = target.loc[ (target['Lat']<= -12.5) & (target['Lat']>= -12.75) ]\n",
    "# check if is right:\n",
    "target.max(), target.min()"
   ]
  },
  {
   "cell_type": "code",
   "execution_count": null,
   "metadata": {},
   "outputs": [],
   "source": [
    "# Dado poco:\n",
    "# longitude filter:\n",
    "poco = poco.loc[ (poco['Lon']<= -38.4) & (poco['Lon']>= -38.90) ] # should have the whitespace \" LONG\" !\n",
    "# latitude filter:\n",
    "poco = poco.loc[ (poco['Lat']<= -12.50) & (poco['Lat']>= -12.7) ]\n",
    "# check if is right:\n",
    "poco.max(), poco.min()"
   ]
  },
  {
   "cell_type": "code",
   "execution_count": null,
   "metadata": {},
   "outputs": [],
   "source": [
    "ipoco = poco.index.tolist()\n",
    "print (ipoco[0])"
   ]
  },
  {
   "cell_type": "markdown",
   "metadata": {},
   "source": [
    "## <center size=3> Etapa 08: Plot da Anomalia residual, as linhas sismicas e os poços: <center>"
   ]
  },
  {
   "cell_type": "code",
   "execution_count": null,
   "metadata": {},
   "outputs": [],
   "source": [
    "\n",
    "# ------------ set figure size: ------------------------------------------#\n",
    "plt.close('all')\n",
    "fig = plt.figure(figsize=(12,4), facecolor='w')\n",
    "\n",
    "plt.xlabel('Longitude ($^o$)', fontsize = 15)\n",
    "plt.ylabel('Latitude ($^o$)', fontsize = 15)\n",
    "p1 = plt.scatter(target['Lon'], target['Lat'], s=60.0, c=target['Boug_residual'], marker='.', cmap=plt.cm.jet)\n",
    "cbar = plt.colorbar(p1, aspect=30, fraction = 0.03, orientation=\"vertical\")\n",
    "cbar.set_label('Anomalia Bouguer Residual $ (mGal) $',fontsize=15, rotation = 90)\n",
    "\n",
    "# plot das linhas sismicas:\n",
    "for i in range(0,2,1):\n",
    "    ys[i] = [lat0[i], latf[i]]\n",
    "    xs[i] = [lon0[i], lonf[i]]\n",
    "    plt.plot(xs[i], ys[i], marker='.', linestyle='solid', linewidth=3.0, markersize=0, label=sis['LINHA'][i] )    \n",
    "\n",
    "#plot dos pocos:\n",
    "for k in range(0, len(poco), 1 ):\n",
    "    i = ipoco[k] \n",
    "    plt.plot(poco['Lon'][i], poco['Lat'][i], marker='*', linestyle='None', linewidth=3.0, markersize=15, label=poco['Nome'][i] )\n",
    "\n",
    "plt.legend(loc=2)\n",
    "\n",
    "###########################################################################################################################\n",
    "#plt.savefig('figs finais/Python/area_estudo_multigeofisico.png', dpi=300, transparent=True, bbox_inches='tight')\n",
    "\n",
    "plt.show()"
   ]
  },
  {
   "cell_type": "code",
   "execution_count": null,
   "metadata": {},
   "outputs": [],
   "source": [
    "np.shape(ys)"
   ]
  },
  {
   "cell_type": "markdown",
   "metadata": {},
   "source": [
    "## <center> Etapa 9: Definicao do perfil gravimétrico a partir do banco de dados pre-filtrados: <center>"
   ]
  },
  {
   "cell_type": "code",
   "execution_count": null,
   "metadata": {},
   "outputs": [],
   "source": [
    "# bibliotecas externas:\n",
    "from modules.grids import profile"
   ]
  },
  {
   "cell_type": "code",
   "execution_count": null,
   "metadata": {},
   "outputs": [],
   "source": [
    "# construcao dos pontos inicial e final do perfil em funcao da linha sismica:\n",
    "\n",
    "\n",
    "p1=(-38.87, -12.55) #ponto na borda flexural da bacia (VAI FAZER A BACIA AFLORAR EM Z=0)\n",
    "\n",
    "p2= (-38.18, -12.675) #ponto na borda de falha da bacia \n"
   ]
  },
  {
   "cell_type": "code",
   "execution_count": null,
   "metadata": {},
   "outputs": [],
   "source": [
    "# calculo do tamanho do perfil\n",
    "\n",
    "p1_m = utm.from_latlon(-38.87,-12.55, force_zone_number=24)\n",
    "p2_m= utm.from_latlon(-38.18,-12.675, force_zone_number=24)\n",
    "\n",
    "dist= (((p1_m[0]-p2_m[0])**2 +(p1_m[1]-p2_m[1])**2)**(0.5))/1000 #distancia em Km\n",
    "#dist\n",
    "p1_m\n",
    "p2_m"
   ]
  },
  {
   "cell_type": "code",
   "execution_count": null,
   "metadata": {},
   "outputs": [],
   "source": [
    "size = int(np.size(target['Boug']) * 10.0/100.0 )\n",
    "size"
   ]
  },
  {
   "cell_type": "code",
   "execution_count": null,
   "metadata": {},
   "outputs": [],
   "source": [
    "perfil = profile(target['Lon'], target['Lat'], target['Boug_residual'], p1, p2, size)"
   ]
  },
  {
   "cell_type": "code",
   "execution_count": null,
   "metadata": {},
   "outputs": [],
   "source": [
    "perfil_robusto=profile(target['Lon'], target['Lat'], target['Boug_residual_robusto'], p1, p2, size)"
   ]
  },
  {
   "cell_type": "code",
   "execution_count": null,
   "metadata": {},
   "outputs": [],
   "source": [
    "# calculando a conversao dos dados do perfil para utm:\n",
    "N_perf = np.zeros(size)\n",
    "E_perf = np.copy(N_perf)\n",
    "\n",
    "for i in range(size):\n",
    "    # N = north, E = East\n",
    "    #print (i)\n",
    "    XXX = utm.from_latlon( perfil[1][i], perfil[0][i], force_zone_number=24 )\n",
    "    N_perf[i], E_perf[i] = XXX[1], XXX[0] "
   ]
  },
  {
   "cell_type": "code",
   "execution_count": null,
   "metadata": {},
   "outputs": [],
   "source": [
    " # ------------ plot the flight lines to check for the interpolation:--------#\n",
    "# ------------ set figure size: ------------------------------------------#\n",
    "plt.close('all')\n",
    "fig = plt.figure(figsize=(12,4), facecolor='w')\n",
    "\n",
    "plt.xlabel('Longitude ($^o$)', fontsize = 15)\n",
    "plt.ylabel('Latitude ($^o$)', fontsize = 15)\n",
    "p1 = plt.scatter(target['Lon'], target['Lat'], s=60.0, c=target['Boug_residual'], marker='.', cmap=plt.cm.jet, \n",
    "                vmin = target['Boug_residual'].min(), vmax = target['Boug_residual'].max(), alpha=0.3 )\n",
    "#cbar = plt.colorbar(p1, aspect=30, fraction = 0.03, orientation=\"vertical\")\n",
    "#cbar.set_label('Residual Bouguer Anomaly $ (mGal) $',fontsize=15, rotation = 90)\n",
    "\n",
    "# plot das linhas sismicas:\n",
    "for i in range(0,2,1):\n",
    "    ys[i] = [lat0[i], latf[i]]\n",
    "    xs[i] = [lon0[i], lonf[i]]\n",
    "    plt.plot(xs[i], ys[i], marker='.', linestyle='solid', linewidth=3.0, markersize=0, label=sis['LINHA'][i] )    \n",
    "\n",
    "#plot dos pocos:\n",
    "for k in range(0, len(poco), 1 ):\n",
    "    i = ipoco[k] \n",
    "    plt.plot(poco['Lon'][i], poco['Lat'][i], marker='*',\n",
    "             linestyle='None', linewidth=3.0, markersize=15, label=poco['Nome'][i] )\n",
    "plt.legend()\n",
    "\n",
    "# plot do perfil via funcao scatter:\n",
    "\n",
    "p1 = plt.scatter(perfil[0], perfil[1], s=70.0, c=perfil[2], marker='.', cmap=plt.cm.jet, \n",
    "                 vmin = target['Boug_residual'].min(), vmax = target['Boug_residual'].max(), alpha=1.5)\n",
    "cbar = plt.colorbar(p1, aspect=30, fraction = 0.03, orientation=\"vertical\")\n",
    "cbar.set_label('Anomalia Bouguer Residual $ (mGal) $',fontsize=15, rotation = 90)\n",
    "plt.legend(loc=1)\n",
    "\n",
    "###########################################################################################################################\n",
    "#plt.savefig('figs finais/Python/mapa_perfil.png', dpi=300, transparent=True, bbox_inches='tight')\n",
    "\n",
    "plt.show()"
   ]
  },
  {
   "cell_type": "markdown",
   "metadata": {},
   "source": [
    "## 9.1: perfil do ajuste polinomial simples:"
   ]
  },
  {
   "cell_type": "code",
   "execution_count": null,
   "metadata": {},
   "outputs": [],
   "source": [
    "# ------------ set figure size: ------------------------------------------#\n",
    "plt.close('all')\n",
    "fig = plt.figure(figsize=(18,8), facecolor='w')\n",
    "\n",
    "plt.xlabel('UTM E ($m$)', fontsize = 15)\n",
    "plt.ylabel('Anomalia Bouguer Residual ($mGal$)', fontsize = 15)\n",
    "\n",
    "\n",
    "p1 = plt.scatter(E_perf, perfil[2], s=70.0, c=perfil[2], marker='.', cmap=plt.cm.jet,\n",
    "                 vmin = target['Boug_residual'].min(), vmax = target['Boug_residual'].max())\n",
    "cbar = plt.colorbar(p1, aspect=30, fraction = 0.03, orientation=\"vertical\")\n",
    "cbar.set_label('Anomalia Bouguer Residual $ (mGal) $',fontsize=15, rotation = 90)\n",
    "plt.legend(loc=1)\n",
    "plt.grid()\n",
    "#plt.savefig('figs finais/Python/perfilrobusto.png', dpi=300, transparent=True, bbox_inches='tight')\n",
    "plt.show()"
   ]
  },
  {
   "cell_type": "markdown",
   "metadata": {},
   "source": [
    "## 9.2: perfil do ajuste polinomial robusto:"
   ]
  },
  {
   "cell_type": "code",
   "execution_count": null,
   "metadata": {},
   "outputs": [],
   "source": [
    "# ------------ set figure size: ------------------------------------------#\n",
    "plt.close('all')\n",
    "fig = plt.figure(figsize=(18,8), facecolor='w')\n",
    "\n",
    "plt.xlabel('UTM E ($m$)', fontsize = 15)\n",
    "plt.ylabel('Anomalia Bouguer Residual ($mGal$)', fontsize = 15)\n",
    "\n",
    "\n",
    "p1 = plt.scatter(E_perf, perfil_robusto[2], s=70.0, c=perfil_robusto[2], marker='.', cmap=plt.cm.jet,\n",
    "                 vmin = target['Boug_residual_robusto'].min(), vmax = target['Boug_residual_robusto'].max())\n",
    "cbar = plt.colorbar(p1, aspect=30, fraction = 0.03, orientation=\"vertical\")\n",
    "cbar.set_label('Anomalia Bouguer Residual $ (mGal) $',fontsize=15, rotation = 90)\n",
    "plt.legend(loc=1)\n",
    "plt.grid()\n",
    "#plt.savefig('figs finais/Python/perfilrobusto.png', dpi=300, transparent=True, bbox_inches='tight')\n",
    "plt.show()"
   ]
  },
  {
   "cell_type": "markdown",
   "metadata": {},
   "source": [
    "# <center> Etapa 10: Mapa referenciado da Região de estudo via pacote Basemap : <center>"
   ]
  },
  {
   "cell_type": "code",
   "execution_count": null,
   "metadata": {},
   "outputs": [],
   "source": [
    "# ------------------------- Define the center of the map -----------------------------------#  \n",
    "lo0 = 0.5*( rec['Lon'].max() + rec['Lon'].min() )\n",
    "la0 = 0.5*( rec['Lat'].max() + rec['Lat'].max() )\n",
    "\n",
    "# ------- use basemap function to create the plot : ---------# \n",
    "m = Basemap(llcrnrlon=-39.0, llcrnrlat=-13.0,\n",
    "            urcrnrlon=-38.0, urcrnrlat=-12.0, \n",
    "            resolution='l',projection='tmerc', \n",
    "            lon_0=lon0, lat_0=lat0,epsg=29100)"
   ]
  },
  {
   "cell_type": "code",
   "execution_count": null,
   "metadata": {},
   "outputs": [],
   "source": [
    "# referenciando as coordenadas grav, sismica e poco ao mapa:\n",
    "lons, lats = m( np.array( rec['Lon'] ), np.array( rec['Lat']) )"
   ]
  },
  {
   "cell_type": "code",
   "execution_count": null,
   "metadata": {
    "scrolled": true
   },
   "outputs": [],
   "source": [
    "# ------------ set figure size: ------------------------------------------#\n",
    "%matplotlib inline\n",
    "plt.close('all')\n",
    "fig = plt.figure(figsize=(18,15), facecolor='w')\n",
    "\n",
    "#----------Drawing Lat Long: -------------#\n",
    "m.drawmeridians( range( 0,360,1), labels=[0, 1, 0, 1], latmax=rec['Lat'].min() )\n",
    "m.drawparallels( range(-90,90,1), labels=[1, 0, 1, 0], latmax=rec['Lat'].max() )\n",
    "m.drawmapscale(-38.1, -12.85, 3, 3, 10.0, units='km', barstyle='simple', fontcolor='k')\n",
    "\n",
    "#------------------Loading Shapefiles---------------#\n",
    "#m.readshapefile('brazil_shapefile/BRA_adm0', 'Brasil', drawbounds=True, linewidth=1)\n",
    "#m.readshapefile('Real/shapes/MatoGrossodoSul', 'MatoGrossodoSul', drawbounds=True, linewidth=1)\n",
    "#m.readshapefile('Real/shapes/Parana', 'Parana', drawbounds=True, linewidth=1)\n",
    "#m.readshapefile('shapeFiles/bacias/Limite_das_Bacias_Sedimentares', 'Limite_das_Bacias_Sedimentares', \n",
    "#                drawbounds=True, linewidth=1)\n",
    "\n",
    "\n",
    "\n",
    "#--------------Background satellite image options-----------#\n",
    "\n",
    "#m.shadedrelief(scale=1)\n",
    "#m.etopo(scale=2)\n",
    "#m.bluemarble(scale=0.5)\n",
    "#m.arcgisimage(service='ESRI_Imagery_World_2D', xpixels=300, verbose=True)\n",
    "m.arcgisimage(service='World_Shaded_Relief', xpixels=1000, ypixels=1000, verbose= True)\n",
    "\n",
    "\n",
    "  \n",
    "#---------- plot da linha sismica -------:\n",
    "# plot das linhas sismicas:\n",
    "for t in range(0,2,1):\n",
    "    ys[t] = [lat0[t], latf[t]]\n",
    "    xs[t] = [lon0[t], lonf[t]]\n",
    "    m.plot(xs[t], ys[t], marker='.', linestyle='solid', linewidth=4.0,\n",
    "           markersize=0, latlon=True, label=sis['LINHA'][t] ) \n",
    "    \n",
    "#plot dos pocos:\n",
    "for k in range(0, len(poco), 1 ):\n",
    "    i = ipoco[k] \n",
    "    m.plot(poco['Lon'][i], poco['Lat'][i], marker='*', linestyle='None', linewidth=3.0,\n",
    "           markersize=20.0, latlon=True, label=poco['Nome'][i] )   \n",
    "plt.legend(loc=1)\n",
    "\n",
    "#------------------Mapa da Anomalia------------------#\n",
    "k = m.scatter(lons, lats, s=5.0, c=rec['Boug_residual'], marker='o', cmap=plt.cm.jet, latlon=False)\n",
    "#----- colorbar specifications -----:\n",
    "cbar = m.colorbar(k, location='right', size=\"2%\", pad=\"2%\")\n",
    "cbar.set_label('Anomalia Bouguer Residual $ (mGal) $',fontsize=20, rotation=90)\n",
    "\n",
    "\n",
    "#-------------Add Title-----------------------#\n",
    "#plt.title('S ', fontsize=16, pad='10')\n",
    "#plt.savefig('figs finais/Python/mapa_bacia_residual.png', dpi=300, transparent=True, bbox_inches='tight')\n",
    "plt.show()"
   ]
  },
  {
   "cell_type": "code",
   "execution_count": null,
   "metadata": {},
   "outputs": [],
   "source": [
    "# Salvando arquivo para georeferenciamento no mapa geológico de reconcavo:\n",
    "g = {'Lon': perfil[0], 'Lat': perfil[1], 'Boug_residual': perfil[2], 'UTMe': E_perf, 'UTMn': N_perf}\n",
    "geo_ref = pd.DataFrame(g)\n",
    "\n",
    "### TODO: verificar o por que o pandas coloca as colunas por ordem alfabética #####\n",
    "\n",
    "# salvando arquivo para georeferenciamento for ROD:\n",
    "geo_ref.to_csv('bouguer_recon_perfil.txt', sep = ' ', index=False)"
   ]
  },
  {
   "cell_type": "markdown",
   "metadata": {},
   "source": [
    "## <center> Etapa 11: Visualização dos dados do modelo"
   ]
  },
  {
   "cell_type": "code",
   "execution_count": null,
   "metadata": {},
   "outputs": [],
   "source": [
    "#Plot da função densidade do modelo\n",
    "\n",
    "densidade= pd.read_csv('figs finais/dados finais/density7.txt', sep=' ', header=0 )\n",
    "\n",
    "plt.close('all')\n",
    "\n",
    "fig = plt.figure(figsize=(5,8))\n",
    "\n",
    "# definition of fontsize:\n",
    "fs = 15 \n",
    "# invert axis\n",
    "plt.gca().invert_yaxis()\n",
    "plt.gca().invert_xaxis()\n",
    "\n",
    "# set labelsize \n",
    "plt.tick_params(axis='y', labelsize=fs-2)\n",
    "plt.tick_params(axis='x', labelsize=fs-2,labelbottom=True,labeltop=False)\n",
    "\n",
    "plt.text(densidade['rhoZ'][0]+0.01, densidade['Z'][0]+0.148, str( format(densidade['rhoZ'][0],'.3f') ), style='italic',\n",
    "        bbox={'facecolor':'red', 'alpha':0.5, 'pad':10})\n",
    "\n",
    "plt.plot(densidade['rhoZ'],densidade['Z'],'k-',linewidth=2.0)\n",
    "plt.plot(densidade['rhoZ'][0],densidade['Z'][0],'ro',linewidth=2.0)\n",
    "plt.grid()\n",
    "plt.xlabel(r'Contraste de densidade $(g/cm^3)$',fontsize=fs)\n",
    "plt.ylabel(r'Profundidade $(m)$',fontsize=fs)\n",
    "#plt.axis([np.max(rhoZ)+0.05, np.min(rhoZ)-0.02, np.max(Z)+0.1, np.min(Z)-0.1])\n",
    "plt.savefig('figs finais/Python/funcao_densidade.png', dpi=300, transparent=True, bbox_inches=\"tight\" )\n",
    "plt.show()\n",
    "\n"
   ]
  },
  {
   "cell_type": "code",
   "execution_count": null,
   "metadata": {},
   "outputs": [],
   "source": [
    "#leitura dos dados do modelo selecionado\n",
    "\n",
    "modelo= pd.read_csv('figs finais/dados finais/model_basin_reconcavo5.txt', sep=' ', header=0 )\n",
    "\n",
    "#descobrir numero de pontos do modelo\n",
    "\n",
    "#print((modelo))\n",
    "\n",
    "#plot do modelo selecionado\n",
    "plt.close('all')\n",
    "fig = plt.figure(figsize=(20,10), facecolor='w')\n",
    "\n",
    "plt.xlabel('UTM E ($m$)', fontsize = 15)\n",
    "plt.ylabel('profundidade ($m$)', fontsize = 15)\n",
    "plt.plot(modelo['Easting(m)'], modelo['depth(m)'], 'k-')\n",
    "plt.gca().invert_yaxis()\n",
    "\n",
    "#plt.savefig('figs finais/Python/model_basin_reconcavo5.png', dpi=300, transparent=True, bbox_inches=\"tight\" )\n",
    "plt.show()\n"
   ]
  },
  {
   "cell_type": "code",
   "execution_count": null,
   "metadata": {},
   "outputs": [],
   "source": [
    "#leitura dos dados do ajuste\n",
    "\n",
    "#ajuste= pd.read_csv('figs finais/dados finais/datafit7.txt', sep=' ', header=0 )\n",
    "plt.plot(ajuste['Easting(m)'], ajuste['Gobs(mGal)'],'.k', label='dado observado')\n",
    "plt.plot(ajuste['Easting(m)'],ajuste['Gpred(mGal)'],'.r', label='dado predito')\n",
    "plt.legend()\n",
    "plt.grid()\n",
    "plt.xlabel('UTM E (m)', fontsize = 14)\n",
    "plt.ylabel('Anomalia Bouguer (mGal)', fontsize = 14)\n",
    "#plt.savefig('figs finais/dados finais/datafit.png', dpi=300, transparent=True, bbox_inches=\"tight\" )\n",
    "\n",
    "plt.show()\n",
    "\n"
   ]
  }
 ],
 "metadata": {
  "kernelspec": {
   "display_name": "Python 3",
   "language": "python",
   "name": "python3"
  },
  "language_info": {
   "codemirror_mode": {
    "name": "ipython",
    "version": 3
   },
   "file_extension": ".py",
   "mimetype": "text/x-python",
   "name": "python",
   "nbconvert_exporter": "python",
   "pygments_lexer": "ipython3",
   "version": "3.7.1"
  }
 },
 "nbformat": 4,
 "nbformat_minor": 2
}
